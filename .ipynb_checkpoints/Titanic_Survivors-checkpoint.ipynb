{
 "cells": [
  {
   "cell_type": "markdown",
   "metadata": {
    "id": "hcNaINut9KUf",
    "pycharm": {
     "name": "#%% md\n"
    }
   },
   "source": [
    "# Problem Statement"
   ]
  },
  {
   "cell_type": "markdown",
   "metadata": {
    "id": "PuXO2VLo9KUi",
    "pycharm": {
     "name": "#%% md\n"
    }
   },
   "source": [
    "### To create a model using machine learning algorithms that predicts the characteristics of passengers survived in the Titanic shipwreck."
   ]
  },
  {
   "cell_type": "code",
   "execution_count": 1,
   "metadata": {
    "id": "rXWCoA4l9KUj"
   },
   "outputs": [
    {
     "ename": "ModuleNotFoundError",
     "evalue": "No module named 'ydata_profiling'",
     "output_type": "error",
     "traceback": [
      "\u001b[1;31m---------------------------------------------------------------------------\u001b[0m",
      "\u001b[1;31mModuleNotFoundError\u001b[0m                       Traceback (most recent call last)",
      "Cell \u001b[1;32mIn[1], line 14\u001b[0m\n\u001b[0;32m     12\u001b[0m \u001b[38;5;28;01mfrom\u001b[39;00m \u001b[38;5;21;01msklearn\u001b[39;00m \u001b[38;5;28;01mimport\u001b[39;00m tree\n\u001b[0;32m     13\u001b[0m \u001b[38;5;66;03m# !pip install ydata-profiling\u001b[39;00m\n\u001b[1;32m---> 14\u001b[0m \u001b[38;5;28;01mfrom\u001b[39;00m \u001b[38;5;21;01mydata_profiling\u001b[39;00m \u001b[38;5;28;01mimport\u001b[39;00m ProfileReport\n",
      "\u001b[1;31mModuleNotFoundError\u001b[0m: No module named 'ydata_profiling'"
     ]
    }
   ],
   "source": [
    "# Importing all the required libraries\n",
    "import numpy as np\n",
    "import pandas as pd\n",
    "import seaborn as sns\n",
    "import matplotlib.pyplot as plt\n",
    "from sklearn import linear_model, preprocessing, model_selection\n",
    "from sklearn.ensemble import RandomForestClassifier, AdaBoostClassifier, GradientBoostingClassifier, ExtraTreesClassifier\n",
    "from sklearn.datasets import make_classification\n",
    "from sklearn.model_selection import cross_val_score, KFold\n",
    "from sklearn.svm import SVC\n",
    "from sklearn.linear_model import LogisticRegression\n",
    "from sklearn import tree\n",
    "# !pip install ydata-profiling\n",
    "from ydata_profiling import ProfileReport\n"
   ]
  },
  {
   "cell_type": "markdown",
   "metadata": {
    "id": "9IaJLq7u9KUl",
    "pycharm": {
     "name": "#%% md\n"
    }
   },
   "source": [
    "### Part 1: Loading train and test datasets"
   ]
  },
  {
   "cell_type": "code",
   "execution_count": null,
   "metadata": {
    "id": "c4ZgA9UV9KUl"
   },
   "outputs": [],
   "source": [
    "# Reading both train and test datasets\n",
    "train = pd.read_csv(\"train.csv\")  # Read train dataset from CSV file into DataFrame 'train'\n",
    "test = pd.read_csv(\"test.csv\")    # Read test dataset from CSV file into DataFrame 'test'\n",
    "\n",
    "# Extracting the target variable 'Survived' into y_train\n",
    "y_train = train['Survived'].ravel()  # Extract 'Survived' column from train DataFrame into a flattened array 'y_train'\n",
    "\n"
   ]
  },
  {
   "cell_type": "markdown",
   "metadata": {
    "id": "ar-S4qoWdagO"
   },
   "source": [
    "The dataset includes the following columns:\n",
    "\n",
    "1. **PassengerId**: Unique identifier for each passenger.\n",
    "2. **Survived**: Survival status (0 = Not Survived, 1 = Survived).\n",
    "3. **Pclass**: Passenger class (1 = First, 2 = Second, 3 = Third).\n",
    "4. **Sex**: Gender of the passenger.\n",
    "5. **Age**: Age of the passenger.\n",
    "6. **SibSp**: Number of siblings/spouses aboard.\n",
    "7. **Parch**: Number of parents/children aboard.\n",
    "8. **Fare**: Fare paid by the passenger.\n",
    "9. **Cabin**: Cabin number of the passenger.\n",
    "10. **Embarked**: Port of embarkation (C = Cherbourg, Q = Queenstown, S = Southampton).\n"
   ]
  },
  {
   "cell_type": "code",
   "execution_count": null,
   "metadata": {
    "colab": {
     "base_uri": "https://localhost:8080/"
    },
    "id": "gp7ix6-l9KUm",
    "outputId": "dca75c23-23b9-416f-a56a-7dcf87167efe"
   },
   "outputs": [],
   "source": [
    "#Obtaining all the columns present in train dataset and test dataset\n",
    "train.columns"
   ]
  },
  {
   "cell_type": "code",
   "execution_count": null,
   "metadata": {
    "colab": {
     "base_uri": "https://localhost:8080/"
    },
    "id": "xNnKq3vDNJph",
    "outputId": "8572ebe6-4a08-43e0-989e-54b1bebe4d76"
   },
   "outputs": [],
   "source": [
    "train.shape"
   ]
  },
  {
   "cell_type": "code",
   "execution_count": null,
   "metadata": {
    "colab": {
     "base_uri": "https://localhost:8080/",
     "height": 504
    },
    "id": "DWid9DtWcEqF",
    "outputId": "c85b3969-cb49-49e1-87b7-1eb3fa9c22f3"
   },
   "outputs": [],
   "source": [
    "train.head()"
   ]
  },
  {
   "cell_type": "code",
   "execution_count": null,
   "metadata": {
    "colab": {
     "base_uri": "https://localhost:8080/"
    },
    "id": "8rHbknZfcwxP",
    "outputId": "826e52c9-1fa6-4e7c-fa85-a1ec2952c94d"
   },
   "outputs": [],
   "source": [
    "# Count the occurrences of each value in the 'Embarked' column\n",
    "train['Embarked'].value_counts()\n"
   ]
  },
  {
   "cell_type": "code",
   "execution_count": null,
   "metadata": {
    "colab": {
     "base_uri": "https://localhost:8080/"
    },
    "id": "mmYPtNuf_kUr",
    "outputId": "3a889964-b8d4-4a05-cb0f-3f9b212a0266"
   },
   "outputs": [],
   "source": [
    "train.info()"
   ]
  },
  {
   "cell_type": "code",
   "execution_count": null,
   "metadata": {
    "colab": {
     "base_uri": "https://localhost:8080/"
    },
    "id": "-2qfV-0LNY-C",
    "outputId": "aae0fa4b-210b-49ca-cd83-0ee2ed67a3d3"
   },
   "outputs": [],
   "source": [
    "# Check for missing values in each column of the train DataFrame\n",
    "train.isnull().sum()\n",
    "\n",
    "# Here we can see that the columns Age, Embarked, and Cabin have null values. We will handle these missing values shortly.\n"
   ]
  },
  {
   "cell_type": "code",
   "execution_count": null,
   "metadata": {
    "colab": {
     "base_uri": "https://localhost:8080/",
     "height": 300
    },
    "id": "vlQlJPuwM7wO",
    "outputId": "eb52fe30-fb53-4c62-9c2a-ae2f645149f0"
   },
   "outputs": [],
   "source": [
    "train.describe()"
   ]
  },
  {
   "cell_type": "code",
   "execution_count": null,
   "metadata": {
    "colab": {
     "base_uri": "https://localhost:8080/",
     "height": 300
    },
    "id": "TQfYC9lkN7lE",
    "outputId": "e7da6eef-0d20-45ca-f16c-38fd050fcfb6"
   },
   "outputs": [],
   "source": [
    "# Concatenate the train and test DataFrames along the rows (axis=0)\n",
    "combined_df = pd.concat([train, test], axis=0)\n",
    "\n",
    "# Reset the index of the combined DataFrame\n",
    "combined_df.reset_index(drop=True, inplace=True)\n",
    "\n",
    "# Display summary statistics of the combined DataFrame\n",
    "combined_df.describe()\n"
   ]
  },
  {
   "cell_type": "markdown",
   "metadata": {
    "id": "Gb5kZAZAWihk"
   },
   "source": [
    "- The dataset contains information on 1309 passengers.\n",
    "\n",
    "- The survival rate among the passengers in the dataset is approximately 38.4%.\n",
    "\n",
    "- The majority of passengers were in second or third class, as indicated by the mean Pclass value of around 2.29.\n",
    "\n",
    "- The average age of passengers in the dataset is around 29.88 years old.\n",
    "\n",
    "- Most passengers traveled without siblings or spouses, with a mean SibSp value of approximately 0.50.\n",
    "\n",
    "- Similarly, the majority of passengers traveled without parents or children, with a mean Parch value of about 0.39.\n",
    "\n",
    "- The average fare paid by passengers is approximately $33.30.\n",
    "\n",
    "- The age range of passengers is from as young as 0.17 years old to as old as 80 years old.\n",
    "\n",
    "- The majority of fares paid were relatively low, as indicated by the 25th percentile value of $ 7.90  and the median (50th percentile ) value of $14.45.\n",
    "\n",
    "- There were passengers who traveled with up to 8 siblings or spouses, and up to 9 parents or children.\n",
    "\n",
    "- The maximum fare paid by a passenger was $512.33, significantly higher than the average fare.\n"
   ]
  },
  {
   "cell_type": "markdown",
   "metadata": {
    "id": "FvBGgOq9Y9yh"
   },
   "source": [
    "### Part 2: Exploratory Data Analysis"
   ]
  },
  {
   "cell_type": "markdown",
   "metadata": {
    "id": "cy8klCXIY_nr"
   },
   "source": [
    "### Plotting the relationship between the target class and various predictor variables\n"
   ]
  },
  {
   "cell_type": "code",
   "execution_count": null,
   "metadata": {
    "colab": {
     "base_uri": "https://localhost:8080/",
     "height": 437
    },
    "id": "M0ZI29NIZO_Z",
    "outputId": "fa6c123a-76e6-4a2f-9b29-3f168523addc"
   },
   "outputs": [],
   "source": [
    "# Create a figure for the plot with a specific size\n",
    "fig = plt.figure(figsize=(32, 12))\n",
    "\n",
    "# Subplot for bar plot of passengers survived vs deceased\n",
    "plt.subplot2grid((3, 4), (0, 0))\n",
    "train['Survived'].value_counts(normalize=True).plot(kind=\"bar\")\n",
    "plt.title('Survived')\n",
    "\n",
    "# Subplot for scatter plot of passengers Age vs Survival\n",
    "plt.subplot2grid((3, 4), (0, 1))\n",
    "plt.scatter(train['Survived'], train['Age'], alpha=0.5)\n",
    "plt.title('Age Vs Survival')\n",
    "\n",
    "# Subplot for bar plot of passenger's ticket class\n",
    "plt.subplot2grid((3, 4), (0, 2))\n",
    "train['Pclass'].value_counts().plot(kind=\"bar\")\n",
    "plt.title('Class')\n",
    "\n",
    "# Subplot for density plot to find the distribution of age in each class\n",
    "plt.subplot2grid((3, 4), (1, 0))\n",
    "for x in [1, 2, 3]:\n",
    "    train['Age'][train['Pclass'] == x].plot(kind='kde')\n",
    "plt.legend((\"1st\", \"2nd\", \"3rd\"))\n",
    "\n",
    "# Subplot for bar plot of Female survivors\n",
    "plt.subplot2grid((3, 4), (1, 1))\n",
    "train['Survived'][train['Sex'] == \"female\"].value_counts().plot(kind=\"bar\")\n",
    "plt.title('Female Survivors')\n",
    "\n",
    "# Subplot for bar plot of gender of the passengers survived\n",
    "plt.subplot2grid((3, 4), (1, 2))\n",
    "train['Sex'][train['Survived'] == 1].value_counts().plot(kind=\"bar\", color=['r'])\n",
    "plt.title('Sex of Survivors')\n",
    "\n",
    "# Subplot for plot showing the distribution of passengers survived in each ticket class\n",
    "plt.subplot2grid((3, 4), (2, 0))\n",
    "for x in [1, 2, 3]:\n",
    "    train['Survived'][train['Pclass'] == x].plot(kind='kde')\n",
    "plt.legend((\"1st\", \"2nd\", \"3rd\"))\n",
    "\n",
    "# Show the plot\n",
    "plt.show()\n"
   ]
  },
  {
   "cell_type": "code",
   "execution_count": null,
   "metadata": {
    "id": "LIl4P33pgPeP"
   },
   "outputs": [],
   "source": [
    "df = pd.DataFrame(train)\n",
    "\n",
    "# Generate a profiling report using pandas_profiling.ProfileReport\n",
    "profile = ProfileReport(df, title=\"Profiling Report\")"
   ]
  },
  {
   "cell_type": "code",
   "execution_count": null,
   "metadata": {
    "colab": {
     "base_uri": "https://localhost:8080/",
     "height": 917,
     "referenced_widgets": [
      "6b5248e2b53143c1b36e2a3f77a3e25f",
      "a502edfc8074490da255839d08f9691e",
      "4b1fa594426241e4a69b0dd5e3181fd2",
      "012c44abeebb4a2e9220e6859c7a9184",
      "6bacb346d0144b80af0e945a8313fbd7",
      "ed83b1efcefc4cbfa780c58b52a0066b",
      "2e20eb2fb8d84703a849f154755423ac",
      "88228998e5ea4095a154783dc5759e72",
      "881c76c56b924d42b1a2879e4fd3d25e",
      "3a61d27058f0438f90e6666c0273be5a",
      "56c635f6426f4fabbcd50146c1435807",
      "dd2068feb0174612b3f4d8857159c991",
      "792e977b42184ac7bd7b71e03fe2b0c0",
      "47eed2fd5d934cd49d649c612e802c26",
      "c9e96ae520f1469aaae6178e36e3c290",
      "50e6b37704bc44f58fd029015b1705dc",
      "6c1e8b734fa64a07bdd42e6dbcf050be",
      "7db8a925efac400f9b3f94f74606aeeb",
      "e20459e3623d4877b30fc548e56bc1f9",
      "7f21edbae6a845ef8366af3d37d168af",
      "8257ddbbb61f478a9941477d85ed2910",
      "812c8332ae8a4f3993b3ce735c310758",
      "cb8ca04b7cfa41108b802b724bf1188d",
      "2bcffe04d35240c1a970d05ac9491268",
      "0bce13e506744e229e76ee9105319e06",
      "1880ef887d7b4a53a136a5bec4cdb849",
      "cdbc5e0bd99d4e62a1d68b8dacf6bb53",
      "1ac4adb33fae470bbed0bca6b7afffba",
      "64e985e473a74b119d1a9310dae6e1bf",
      "7d07c58f8476423c97610c98cf49dece",
      "b36ad4201bd0492c9900e4457fa49ce3",
      "5049ecd2fae74fdf99e9eb6858496bcf",
      "a377ab7a94ee4a938caf63125f8d1c9b"
     ]
    },
    "id": "jweCNVTcgh3s",
    "outputId": "7d951509-9393-4b65-e2b0-007a987ae353"
   },
   "outputs": [],
   "source": [
    "# Render the profiling report as a notebook iframe\n",
    "profile.to_notebook_iframe()\n"
   ]
  },
  {
   "cell_type": "code",
   "execution_count": null,
   "metadata": {
    "colab": {
     "base_uri": "https://localhost:8080/",
     "height": 105,
     "referenced_widgets": [
      "86be2faad35445f4b78bbcffad24aa9d",
      "a312455bab8a41a59c14f2bdc0e6166e",
      "df6ccb4879f24952b822e49711a329a9",
      "b02d82e0aafc4477aa321f4a251e4878",
      "61038780d5c44705b557fe425666ce86",
      "b6d65486efe64fff8ed7184f53851793",
      "5a49c2e47b1a461e97f32e2b8bb10d8d",
      "dacfe2dec5d340ed99a0db4936feb19d",
      "77fd24186400488aa2bf90cce5d342b3",
      "6e9e88fadfbb4a4cbc687c946be22047",
      "9b2d0bafb8f8401887580efca686fa89"
     ]
    },
    "id": "1mQmTR4Kgumv",
    "outputId": "ae316768-5830-4689-8116-78857eb0265f"
   },
   "outputs": [],
   "source": [
    "# Save the profiling report to an HTML file\n",
    "profile.to_file(\"output_file.html\")\n"
   ]
  },
  {
   "cell_type": "markdown",
   "metadata": {
    "id": "H0Qsetjd9KUp",
    "pycharm": {
     "name": "#%% md\n"
    }
   },
   "source": [
    "### Part 3: Data Cleansing"
   ]
  },
  {
   "cell_type": "markdown",
   "metadata": {
    "id": "nsSxq4mh9KUq",
    "pycharm": {
     "name": "#%% md\n"
    }
   },
   "source": [
    "Data cleansing involves mainly the following:\n",
    "1. Checking for null values and imputation of null values using mean, median, or mode.\n",
    "2. Label Encoding as well as mapping of characteristic variables to numeric variables.\n",
    "3. Grouping into different buckets\n"
   ]
  },
  {
   "cell_type": "code",
   "execution_count": null,
   "metadata": {
    "id": "ZLrj_dRs9KUq"
   },
   "outputs": [],
   "source": [
    "# Function to replace null values with the median of the corresponding column\n",
    "def fill_null_with_median(df, col):\n",
    "    \"\"\"Replace null values with the median of the corresponding column.\"\"\"\n",
    "    df[col] = df[col].fillna(df[col].dropna().median())\n",
    "\n",
    "# Function to clean the data by filling null values and imputing values\n",
    "def clean_data(data):\n",
    "    \"\"\"\n",
    "    Clean the data by filling null values and imputing values.\n",
    "\n",
    "    Args:\n",
    "        data (DataFrame): The input DataFrame to be cleaned.\n",
    "\n",
    "    Returns:\n",
    "        DataFrame: The cleaned DataFrame.\n",
    "    \"\"\"\n",
    "    fill_null_with_median(data, 'Fare')\n",
    "    fill_null_with_median(data, 'Age')\n",
    "    data[\"Embarked\"] = data[\"Embarked\"].fillna(\"S\")\n",
    "    return data\n",
    "\n",
    "# Function to add a new column 'Deck' based on the 'Cabin' column\n",
    "def add_deck_column(data):\n",
    "    \"\"\"\n",
    "    Create a new column 'Deck' based on the 'Cabin' column.\n",
    "\n",
    "    Args:\n",
    "        data (DataFrame): The input DataFrame.\n",
    "\n",
    "    Returns:\n",
    "        DataFrame: The DataFrame with the new 'Deck' column.\n",
    "    \"\"\"\n",
    "    data['Cabin'].fillna(value='', inplace=True)\n",
    "    data['Deck'] = data['Cabin'].apply(lambda cabin: cabin[0] if cabin != '' else 'None')\n",
    "    return data\n",
    "\n",
    "# Function to perform label encoding on categorical features\n",
    "def label_encode(data, columns):\n",
    "    \"\"\"\n",
    "    Perform label encoding on categorical features.\n",
    "\n",
    "    Args:\n",
    "        data (DataFrame): The input DataFrame.\n",
    "        columns (list): List of columns to encode.\n",
    "    \"\"\"\n",
    "    label_encoder = preprocessing.LabelEncoder()\n",
    "    for column in columns:\n",
    "        data[column] = label_encoder.fit_transform(data[column])\n",
    "\n",
    "# Function to extract titles from names and map them to numerical values\n",
    "def set_title(data):\n",
    "    \"\"\"\n",
    "    Extract titles from names and map them to numerical values.\n",
    "\n",
    "    Args:\n",
    "        data (DataFrame): The input DataFrame.\n",
    "    \"\"\"\n",
    "    data['Title'] = data['Name'].apply(lambda x: x.split(',')[1].split('.')[0].strip())\n",
    "    data['Title'] = data['Title'].replace(main_title_map)\n",
    "    data['Title'] = data['Title'].map(replacement_title_map)\n",
    "    data['Title'].fillna(0, inplace=True)\n",
    "    data['Title'] = data['Title'].astype(int)\n",
    "    data['Lastname'] = data['Name'].apply(lambda x: x.split(',')[0])\n",
    "\n",
    "# Function to assign passengers into age groups\n",
    "def get_age_group(data):\n",
    "    \"\"\"\n",
    "    Assign passengers into age groups.\n",
    "\n",
    "    Args:\n",
    "        data (DataFrame): The input DataFrame.\n",
    "    \"\"\"\n",
    "    data['Age'] = pd.cut(data['Age'], bins=[0, 12, 18, 23, 28, 34, 41, 67, np.inf], labels=range(8))\n",
    "\n",
    "# Function to assign passengers into fare groups\n",
    "def get_fare_group(data):\n",
    "    \"\"\"\n",
    "    Assign passengers into fare groups.\n",
    "\n",
    "    Args:\n",
    "        data (DataFrame): The input DataFrame.\n",
    "    \"\"\"\n",
    "    data['Fare'] = pd.cut(data['Fare'], bins=[-np.inf, 7.91, 14.454, 31, 99, 250, np.inf], labels=range(6))\n",
    "\n",
    "# Function to calculate 'classAge' by multiplying 'Pclass' and 'Age'\n",
    "def get_class_age(data):\n",
    "    \"\"\"\n",
    "    Calculate 'classAge' by multiplying 'Pclass' and 'Age'.\n",
    "\n",
    "    Args:\n",
    "        data (DataFrame): The input DataFrame.\n",
    "    \"\"\"\n",
    "    data['classAge'] = data['Pclass'] * data['Age']\n",
    "\n",
    "# Function to check if the passenger is traveling alone\n",
    "def is_alone(data):\n",
    "    \"\"\"\n",
    "    Check if the passenger is traveling alone.\n",
    "\n",
    "    Args:\n",
    "        data (DataFrame): The input DataFrame.\n",
    "    \"\"\"\n",
    "    data['isAlone'] = np.where((data['SibSp'] > 0) | (data['Parch'] > 0), 0, 1)\n",
    "\n",
    "# Function to perform label encoding on categorical feature without any order\n",
    "def label_encode(data, columns):\n",
    "    \"\"\"Perform label encoding on categorical features.\"\"\"\n",
    "    label_encoder = preprocessing.LabelEncoder()\n",
    "    for column in columns:\n",
    "        data[column]= label_encoder.fit_transform(data[column])\n",
    "    data[column].unique()\n",
    "\n",
    "# Dictionary to map replacement titles\n",
    "main_title_map = {'Lady': 'Rare', 'Mme': 'Mrs', 'Dona': 'Rare', 'the Countess': 'Rare',\n",
    "         'Ms': 'Mrs', 'Mlle': 'Mrs',\n",
    "         'Sir': 'Rare', 'Major': 'Officer', 'Capt': 'Officer', 'Jonkheer': 'rare', 'Don': 'rare', 'Col': 'Officer', 'Rev': 'Officer', 'Dr': 'rare'}\n",
    "replacement_title_map = {\"Mr\": 1, \"Miss\": 2, \"Mrs\": 3, \"Master\": 4, \"Rare\": 5,\"Officer\":6}\n",
    "\n",
    "# List to store known families\n",
    "known_family = []\n",
    "\n",
    "# Splitting the name to get the title and last name\n",
    "def get_title(full_name):\n",
    "    return full_name.split(',')[1].split('.')[0].strip()\n",
    "\n",
    "def get_lastname(full_name):\n",
    "    return full_name.split(',')[0]\n",
    "\n",
    "# Function to obtain the survival rate of passengers per family\n",
    "def get_known_family(last_name):\n",
    "    if last_name in known_family:\n",
    "        print(last_name)\n",
    "        return True\n",
    "    else:\n",
    "        return False\n",
    "\n",
    "# Function to print the name of the family where more than one passenger is present\n",
    "def get_known_family_survival_rate(Lastname):\n",
    "    if get_known_family(Lastname):\n",
    "        print(train.Lastname[train.Survived==1].value_counts())\n",
    "        return train.Lastname[train.Survived==1].value_counts()/train.Lastname.value_counts()\n",
    "    else:\n",
    "        return 0\n",
    "\n",
    "# Function to find the survival rate of passengers traveling in each deck of the ship\n",
    "def get_deck_survival_rate(deck):\n",
    "    return train.Deck[train.Survived==1].value_counts()/train.Deck.value_counts()\n",
    "\n",
    "# Function to apply label encoding on categorical feature without any order\n",
    "def label_encode(data, columns):\n",
    "    \"\"\"Perform label encoding on categorical features.\"\"\"\n",
    "    label_encoder = preprocessing.LabelEncoder()\n",
    "    for column in columns:\n",
    "        data[column]= label_encoder.fit_transform(data[column])\n",
    "    data[column].unique()\n",
    "\n",
    "# Function to assign the passenger fare details into 6 buckets\n",
    "def get_fare_group(data):\n",
    "    \"\"\"Assign passengers into fare groups.\"\"\"\n",
    "    data.loc[ data['Fare'] <= 7.91, 'Fare'] = 0\n",
    "    data.loc[(data['Fare'] > 7.91) & (data['Fare'] <= 14.454), 'Fare'] = 1\n",
    "    data.loc[(data['Fare'] > 14.454) & (data['Fare'] <= 31), 'Fare']   = 2\n",
    "    data.loc[(data['Fare'] > 31) & (data['Fare'] <= 99), 'Fare']   = 3\n",
    "    data.loc[(data['Fare'] > 99) & (data['Fare'] <= 250), 'Fare']   = 4\n",
    "    data.loc[ data['Fare'] > 250, 'Fare'] = 5\n",
    "    data['Fare'] = data['Fare'].astype(int)\n",
    "\n",
    "# Function to assign the passengers based on age into 8 buckets\n",
    "def get_age_group(data):\n",
    "    \"\"\"Assign passengers into age groups.\"\"\"\n",
    "    data.loc[ data['Age'] <= 11, 'Age'] = 0\n",
    "    data.loc[(data['Age'] > 11) & (data['Age'] <= 18), 'Age'] = 1\n",
    "    data.loc[(data['Age'] > 18) & (data['Age'] <= 22), 'Age'] = 2\n",
    "    data.loc[(data['Age'] > 22) & (data['Age'] <= 27), 'Age'] = 3\n",
    "    data.loc[(data['Age'] > 27) & (data['Age'] <= 33), 'Age'] = 4\n",
    "    data.loc[(data['Age'] > 33) & (data['Age'] <= 40), 'Age'] = 5\n",
    "    data.loc[(data['Age'] > 40) & (data['Age'] <= 66), 'Age'] = 6\n",
    "    data.loc[ data['Age'] > 66, 'Age'] = 7\n",
    "\n",
    "# Function to calculate 'classAge' by multiplying 'Pclass' and 'Age'\n",
    "def get_class_age(data):\n",
    "    \"\"\"Calculate 'classAge' by multiplying 'Pclass' and 'Age'.\"\"\"\n",
    "    data['classAge'] = data['Pclass'] * data['Age']\n",
    "\n",
    "# Function to check if the passenger is traveling alone\n",
    "def is_alone(data):\n",
    "    \"\"\"Check if the passenger is traveling alone.\"\"\"\n",
    "    data['isAlone'] = np.where((data['SibSp'] > 0) | (data['Parch'] > 0), 0, 1)\n",
    "\n",
    "# Function to get a boolean value based on a threshold\n",
    "def get_boolean(pred):\n",
    "    \"\"\"Get a boolean value based on a threshold.\"\"\"\n",
    "    return 1 if pred > 0.3 else 0\n",
    "\n",
    "# Function to write predictions to a CSV file\n",
    "def write_prediction(prediction, name):\n",
    "    \"\"\"\n",
    "    Write predictions to a CSV file.\n",
    "\n",
    "    Args:\n",
    "        prediction (array): Array containing the predictions.\n",
    "        name (str): Name of the output file.\n",
    "    \"\"\"\n",
    "    PassengerId = np.array(test[\"PassengerId\"]).astype(int)\n",
    "    solution = pd.DataFrame(prediction, PassengerId, columns=[\"Survived\"])\n",
    "    solution.to_csv(name, index_label=[\"PassengerId\"])\n"
   ]
  },
  {
   "cell_type": "markdown",
   "metadata": {
    "id": "Kw86kKFmanpT"
   },
   "source": [
    "## Preprocessing and Data Cleaning Steps:\n",
    "### Step 1: Handling Null Values\n",
    "- Replace null values in the \"Fare\" and \"Age\" columns with their respective medians.\n",
    "- Fill null values in the \"Embarked\" column with 'S'.\n",
    "\n",
    "### Step 2: Creating Additional Features\n",
    "- Create a new column \"Deck\" based on the first letter of the \"Cabin\" column to represent the deck each passenger was on.\n",
    "- Extract titles from the \"Name\" column and map them to predefined categories, creating a new feature \"Title\".\n",
    "- Extract family names from the \"Name\" column to identify passengers belonging to the same family.\n",
    "- Group passengers into age categories based on predefined ranges.\n",
    "- Group fares into predefined ranges and assign them to passengers.\n",
    "- Create a binary feature \"isChild\" to indicate whether a passenger is a child (age < 18).\n",
    "- Create a new feature \"classAge\" by multiplying the \"Pclass\" and \"Age\" columns.\n",
    "\n",
    "### Step 3: Handling Categorical Data\n",
    "- Label encode categorical columns like \"Embarked\" and \"Title\" using sklearn's LabelEncoder.\n",
    "\n",
    "### Step 4: Generating VIF (Variance Inflation Factor)\n",
    "- Check for collinearity among predictor variables using the Variance Inflation Factor.\n",
    "\n",
    "### Step 5: Outputting Predictions\n",
    "- Provide a function \"write_prediction\" to output predictions for whether a passenger survived or not.\n",
    "\n",
    "### Step 6: Miscellaneous\n",
    "- Provide functions to check the survival rate of passengers per family and per deck.\n",
    "- Create an additional feature \"isAlone\" to indicate whether a passenger is traveling alone (without siblings, spouses, parents, or children).\n"
   ]
  },
  {
   "cell_type": "code",
   "execution_count": null,
   "metadata": {
    "colab": {
     "base_uri": "https://localhost:8080/",
     "height": 504
    },
    "id": "q0GJyOBZ9KUr",
    "outputId": "a79d2566-5a4c-4383-d046-cfc557f84eec"
   },
   "outputs": [],
   "source": [
    "#Adding the deck column in train dataset\n",
    "clean_data(train)\n",
    "clean_data(test)\n",
    "train = addDeckColumn(train)\n",
    "columns=['Deck','Sex','Embarked']\n",
    "label_encode(train,columns)\n",
    "train.head()"
   ]
  },
  {
   "cell_type": "code",
   "execution_count": null,
   "metadata": {
    "id": "FpJAEv4A9KUr"
   },
   "outputs": [],
   "source": [
    "#Mapping passenger class 1 and 2 to 0 and passenger_class 3 to 1\n",
    "class3_map = {1: 0, 2: 0, 3: 1}\n",
    "train['Pclass_3'] = train['Pclass'].map(class3_map)\n",
    "test['Pclass_3'] = test['Pclass'].map(class3_map)"
   ]
  },
  {
   "cell_type": "code",
   "execution_count": null,
   "metadata": {
    "colab": {
     "base_uri": "https://localhost:8080/"
    },
    "id": "PNOp2yju9KUr",
    "outputId": "7cf5f94c-281e-4038-e2b0-7a99ddc55c7c"
   },
   "outputs": [],
   "source": [
    "train.info()"
   ]
  },
  {
   "cell_type": "code",
   "execution_count": null,
   "metadata": {
    "id": "-A5PAomk9KUr"
   },
   "outputs": [],
   "source": [
    "#Applying all the above functions to both train and test datasets.\n",
    "set_title(train)\n",
    "set_title(test)\n",
    "isAlone(train)\n",
    "isAlone(test)\n",
    "isChild(train)\n",
    "isChild(test)\n",
    "get_age_group(train)\n",
    "get_age_group(test)\n",
    "get_fare_group(train)\n",
    "get_fare_group(test)\n",
    "get_class_age(train)\n",
    "get_class_age(test)"
   ]
  },
  {
   "cell_type": "code",
   "execution_count": null,
   "metadata": {
    "colab": {
     "base_uri": "https://localhost:8080/",
     "height": 921
    },
    "id": "jw87P3g99KUs",
    "outputId": "bcacc776-f115-4f9f-b1b8-bb52bcde4355"
   },
   "outputs": [],
   "source": [
    "train.head(10)"
   ]
  },
  {
   "cell_type": "code",
   "execution_count": null,
   "metadata": {
    "id": "toyHfDgIvFrA"
   },
   "outputs": [],
   "source": []
  },
  {
   "cell_type": "code",
   "execution_count": null,
   "metadata": {
    "id": "1HAPwZWD9KUs"
   },
   "outputs": [],
   "source": [
    "#Similarly all the above steps are done for test dataset. Also the target variable is removed from train dataset.\n",
    "test = addDeckColumn(test)\n",
    "columns=['Deck','Sex','Embarked','Lastname','isAlone']\n",
    "label_encode(train,columns)\n",
    "label_encode(test,columns)\n",
    "train = train.drop(['Survived'], axis=1)"
   ]
  },
  {
   "cell_type": "code",
   "execution_count": null,
   "metadata": {
    "colab": {
     "base_uri": "https://localhost:8080/",
     "height": 504
    },
    "id": "x6xG5dvs2sQ2",
    "outputId": "fd5cb52c-9135-47f5-bc8b-f4de5121db31"
   },
   "outputs": [],
   "source": [
    "train.head()"
   ]
  },
  {
   "cell_type": "code",
   "execution_count": null,
   "metadata": {
    "id": "OEwt5XQB3kMy"
   },
   "outputs": [],
   "source": [
    "# Save preprocessed train dataset to CSV file\n",
    "train.to_csv('preprocessed_train.csv', index=False)\n",
    "\n",
    "# Save preprocessed test dataset to CSV file\n",
    "test.to_csv('preprocessed_test.csv', index=False)\n"
   ]
  },
  {
   "cell_type": "markdown",
   "metadata": {
    "id": "qJYEwHZL9KUt",
    "pycharm": {
     "name": "#%% md\n"
    }
   },
   "source": [
    "### Part 4: Feature selection- Using Ensemble method to obtain the best features for survival prediction."
   ]
  },
  {
   "cell_type": "code",
   "execution_count": null,
   "metadata": {
    "id": "TMDVxi134kj0"
   },
   "outputs": [],
   "source": [
    "# Read preprocessed train dataset from CSV file\n",
    "train = pd.read_csv('preprocessed_train.csv')\n",
    "\n",
    "# Read preprocessed test dataset from CSV file\n",
    "test = pd.read_csv('preprocessed_test.csv')"
   ]
  },
  {
   "cell_type": "code",
   "execution_count": null,
   "metadata": {
    "id": "O9U5Dns79KUt"
   },
   "outputs": [],
   "source": [
    "def get_train_test_data(columns):\n",
    "    \"\"\"\n",
    "    Extracts the specified columns from the train and test datasets and converts them into arrays.\n",
    "\n",
    "    Parameters:\n",
    "    columns (list): List of column names to extract from the datasets.\n",
    "\n",
    "    Returns:\n",
    "    tuple: A tuple containing the arrays of training data and testing data respectively.\n",
    "    \"\"\"\n",
    "\n",
    "    train_features = train[columns]  # Extract specified columns from the train dataset\n",
    "    test_features = test[columns]    # Extract specified columns from the test dataset\n",
    "\n",
    "    x_train = train_features.values  # Creates an array of the train data\n",
    "    x_test = test_features.values    # Creates an array of the test data\n",
    "\n",
    "    ntrain = x_train.shape[0]        # Number of rows in the training data array\n",
    "    ntest = x_test.shape[0]          # Number of rows in the testing data array\n",
    "\n",
    "    return x_train, x_test\n"
   ]
  },
  {
   "cell_type": "markdown",
   "metadata": {
    "id": "yy4Jo3Ix9KUt",
    "pycharm": {
     "name": "#%% md\n"
    }
   },
   "source": [
    "Using KFold cross validation technique to split the data into NFolds and for each fold the data is divided into training and test and the model is built using k-1 folds and evaluated on the test fold."
   ]
  },
  {
   "cell_type": "code",
   "execution_count": null,
   "metadata": {
    "id": "eg58N9h29KUu"
   },
   "outputs": [],
   "source": [
    "# Some useful parameters which will come in handy later on\n",
    "ntrain = train.shape[0]\n",
    "ntest = test.shape[0]\n",
    "SEED = 0 # for reproducibility\n",
    "NFOLDS = 5 # set folds for out-of-fold prediction\n",
    "kf = KFold(n_splits = NFOLDS, random_state = None)\n",
    "# Class to extend the Sklearn classifier for easier handling and customization\n",
    "class SklearnHelper(object):\n",
    "    \"\"\"\n",
    "    A helper class to extend the functionality of Sklearn classifiers.\n",
    "\n",
    "    Parameters:\n",
    "    clf (object): A Sklearn classifier object.\n",
    "    seed (int): Random seed for reproducibility (by default we have set it to 0).\n",
    "    params (dict): Additional parameters to be passed to the classifier (default is None).\n",
    "\n",
    "    Attributes:\n",
    "    clf (object): The Sklearn classifier object initialized with the specified parameters.\n",
    "\n",
    "    Methods:\n",
    "    train(x_train, y_train): Trains the classifier on the provided training data.\n",
    "    predict(x): Predicts the target variable for the provided data.\n",
    "    fit(x, y): Fits the classifier to the provided data.\n",
    "    feature_importances(x, y): Calculates and returns the feature importances of the fitted model.\n",
    "    \"\"\"\n",
    "\n",
    "    def __init__(self, clf, seed=0, params=None):\n",
    "        \"\"\"\n",
    "        Initialize the SklearnHelper object with the specified classifier and parameters.\n",
    "\n",
    "        Args:\n",
    "        clf (object): A Sklearn classifier object.\n",
    "        seed (int): Random seed for reproducibility (default is 0).\n",
    "        params (dict): Additional parameters to be passed to the classifier (default is None).\n",
    "        \"\"\"\n",
    "        params['random_state'] = seed\n",
    "        self.clf = clf(**params)\n",
    "\n",
    "    def train(self, x_train, y_train):\n",
    "        \"\"\"\n",
    "        Train the classifier on the provided training data.\n",
    "\n",
    "        Args:\n",
    "        x_train (array-like): Training data features.\n",
    "        y_train (array-like): Target variable for training.\n",
    "\n",
    "        Returns:\n",
    "        None\n",
    "        \"\"\"\n",
    "        self.clf.fit(x_train, y_train)\n",
    "\n",
    "    def predict(self, x):\n",
    "        \"\"\"\n",
    "        Predict the target variable for the provided data.\n",
    "\n",
    "        Args:\n",
    "        x (array-like): Data for prediction.\n",
    "\n",
    "        Returns:\n",
    "        array-like: Predicted target variable.\n",
    "        \"\"\"\n",
    "        return self.clf.predict(x)\n",
    "\n",
    "    def fit(self, x, y):\n",
    "        \"\"\"\n",
    "        Fit the classifier to the provided data.\n",
    "\n",
    "        Args:\n",
    "        x (array-like): Training data features.\n",
    "        y (array-like): Target variable for training.\n",
    "\n",
    "        Returns:\n",
    "        object: Fitted classifier.\n",
    "        \"\"\"\n",
    "        return self.clf.fit(x, y)\n",
    "\n",
    "    def feature_importances(self, x, y):\n",
    "        \"\"\"\n",
    "        Calculate and return the feature importances of the fitted model.\n",
    "\n",
    "        Args:\n",
    "        x (array-like): Training data features.\n",
    "        y (array-like): Target variable for training.\n",
    "\n",
    "        Returns:\n",
    "        array-like: Feature importances.\n",
    "        \"\"\"\n",
    "        return self.clf.fit(x, y).feature_importances_\n"
   ]
  },
  {
   "cell_type": "code",
   "execution_count": null,
   "metadata": {
    "id": "axJW0k0G9KUu"
   },
   "outputs": [],
   "source": [
    "def get_oof(clf, model_x_train, y_train, model_x_test):\n",
    "    \"\"\"\n",
    "    Generate out-of-fold predictions using a classifier.\n",
    "\n",
    "    Args:\n",
    "    clf (object): Classifier object with methods train and predict.\n",
    "    model_x_train (array-like): Features of the training dataset.\n",
    "    y_train (array-like): Target variable of the training dataset.\n",
    "    model_x_test (array-like): Features of the testing dataset.\n",
    "\n",
    "    Returns:\n",
    "    tuple: A tuple containing out-of-fold predictions for the training set and predictions for the testing set.\n",
    "    \"\"\"\n",
    "    oof_train = np.zeros((ntrain,))\n",
    "    oof_test = np.zeros((ntest,))\n",
    "    oof_test_skf = np.empty((NFOLDS, ntest))\n",
    "\n",
    "    for i, (train_index, test_index) in enumerate(kf.split(train)):\n",
    "        x_tr = model_x_train[train_index]\n",
    "        y_tr = y_train[train_index]\n",
    "        x_te = model_x_train[test_index]\n",
    "\n",
    "        clf.train(x_tr, y_tr)\n",
    "\n",
    "        oof_train[test_index] = clf.predict(x_te)\n",
    "        oof_test_skf[i, :] = clf.predict(model_x_test)\n",
    "\n",
    "    oof_test[:] = oof_test_skf.mean(axis=0)\n",
    "    return oof_train.reshape(-1, 1), oof_test.reshape(-1, 1)\n"
   ]
  },
  {
   "cell_type": "code",
   "execution_count": null,
   "metadata": {
    "id": "uJ2DLVlY9KUu"
   },
   "outputs": [],
   "source": [
    "# Put in our parameters for said classifiers\n",
    "# Random Forest parameters\n",
    "rf_params = {\n",
    "    'n_jobs': -1,\n",
    "    'n_estimators': 100,\n",
    "    'warm_start': True,\n",
    "    'max_depth': 6,\n",
    "    'min_samples_leaf': 1,\n",
    "    'max_features' : 'sqrt',\n",
    "    'min_samples_split': 16,\n",
    "    'criterion': 'gini',\n",
    "    'verbose': 0\n",
    "}\n",
    "\n",
    "\n",
    "# Extra Trees Parameters\n",
    "et_params = {\n",
    "    'n_jobs': -1,\n",
    "    'n_estimators':1000,\n",
    "    'max_features':4,\n",
    "    'max_depth': 50,\n",
    "    'min_samples_leaf': 5,\n",
    "    'criterion': 'entropy',\n",
    "    'verbose': 0\n",
    "}\n",
    "\n",
    "# AdaBoost parameters\n",
    "ada_params = {\n",
    "    'n_estimators': 500,\n",
    "    'learning_rate' : 0.75\n",
    "}\n",
    "\n",
    "# Gradient Boosting parameters\n",
    "gb_params = {\n",
    "    'n_estimators': 500,\n",
    "     #'max_features': 0.2,\n",
    "    'max_depth': 5,\n",
    "    'min_samples_leaf': 2,\n",
    "    'verbose': 0\n",
    "}\n",
    "\n",
    "# Support Vector Classifier parameters\n",
    "svc_params = {\n",
    "    'kernel' : 'linear',\n",
    "    'C' : 0.025\n",
    "    }\n"
   ]
  },
  {
   "cell_type": "code",
   "execution_count": null,
   "metadata": {
    "id": "9Kh_9BVbAnxg"
   },
   "outputs": [],
   "source": []
  },
  {
   "cell_type": "markdown",
   "metadata": {
    "id": "JPjM-rsTAoX1"
   },
   "source": [
    "### list of model used :\n",
    "1. Random Forest Classifier\n",
    "2. Extra Trees Classifier\n",
    "3. AdaBoost Classifier\n",
    "4. Gradient Boosting Classifier\n",
    "5. Support Vector Classifier"
   ]
  },
  {
   "cell_type": "code",
   "execution_count": null,
   "metadata": {
    "id": "WUb-WFnH9KUv"
   },
   "outputs": [],
   "source": [
    "# Create instances of classifiers with specified parameters\n",
    "rf = SklearnHelper(clf=RandomForestClassifier, seed=SEED, params=rf_params)\n",
    "et = SklearnHelper(clf=ExtraTreesClassifier, seed=SEED, params=et_params)\n",
    "ada = SklearnHelper(clf=AdaBoostClassifier, seed=SEED, params=ada_params)\n",
    "gb = SklearnHelper(clf=GradientBoostingClassifier, seed=SEED, params=gb_params)\n",
    "svc = SklearnHelper(clf=SVC, seed=SEED, params=svc_params)\n"
   ]
  },
  {
   "cell_type": "markdown",
   "metadata": {
    "id": "DIQkIfPa9KUv",
    "pycharm": {
     "name": "#%% md\n"
    }
   },
   "source": [
    "Best Features: Using feature_importance in all 4 algorithmns(RandomForest,Decision Trees, AdaBoost and Gradient Boosting) we can obtain the best features for prediction"
   ]
  },
  {
   "cell_type": "code",
   "execution_count": null,
   "metadata": {
    "id": "qy_HOI8_9KUv"
   },
   "outputs": [],
   "source": [
    "# Define columns to be used for training\n",
    "columns_to_train = ['Pclass_3', 'Sex', 'Title', 'Lastname', 'isAlone', 'Age', 'Fare', 'classAge', 'Deck', 'isChild']\n",
    "\n",
    "# Get training and test datasets based on the specified columns\n",
    "x_train, x_test = get_train_test_data(columns_to_train)\n"
   ]
  },
  {
   "cell_type": "code",
   "execution_count": null,
   "metadata": {
    "id": "cVPisac39KUv"
   },
   "outputs": [],
   "source": [
    "# Extract feature importances from each model\n",
    "rf_features = rf.feature_importances(x_train, y_train)\n",
    "et_features = et.feature_importances(x_train, y_train)\n",
    "ada_features = ada.feature_importances(x_train, y_train)\n",
    "gb_features = gb.feature_importances(x_train, y_train)\n"
   ]
  },
  {
   "cell_type": "code",
   "execution_count": null,
   "metadata": {
    "colab": {
     "base_uri": "https://localhost:8080/",
     "height": 242
    },
    "id": "ZatBpWNq9KUw",
    "outputId": "b4d51f74-f581-4013-81bc-21d5f9e1b609"
   },
   "outputs": [],
   "source": [
    "# Define the columns used as features\n",
    "cols = columns_to_train\n",
    "print(cols)\n",
    "\n",
    "# Create a DataFrame to store feature importances\n",
    "feature_dataframe = pd.DataFrame({\n",
    "    'features': cols,\n",
    "    'Random Forest feature importances': rf_features,\n",
    "    'Extra Trees feature importances': et_features,\n",
    "    'AdaBoost feature importances': ada_features,\n",
    "    'Gradient Boost feature importances': gb_features\n",
    "})\n",
    "\n",
    "# Print the DataFrame\n",
    "feature_dataframe.head()"
   ]
  },
  {
   "cell_type": "markdown",
   "metadata": {
    "id": "vhHrUStB9KUw",
    "pycharm": {
     "name": "#%% md\n"
    }
   },
   "source": [
    "Base Feature Mean : Calculating Mean of the new features obtained and representing the average using Barplot."
   ]
  },
  {
   "cell_type": "code",
   "execution_count": null,
   "metadata": {
    "colab": {
     "base_uri": "https://localhost:8080/"
    },
    "id": "ot89_Ah99KUw",
    "outputId": "f13fd33a-8164-47e0-8b25-e5c91a23baf1"
   },
   "outputs": [],
   "source": [
    "feature_dataframe['mean'] = feature_dataframe.mean(axis= 1)"
   ]
  },
  {
   "cell_type": "code",
   "execution_count": null,
   "metadata": {
    "colab": {
     "base_uri": "https://localhost:8080/",
     "height": 397
    },
    "id": "ClQBqbPs9KUw",
    "outputId": "2b874f57-8fb7-4820-db0c-e28d28fc1435"
   },
   "outputs": [],
   "source": [
    "feature_dataframe"
   ]
  },
  {
   "cell_type": "markdown",
   "metadata": {
    "id": "Rt4qVngMC5sM"
   },
   "source": [
    "###### Observations on feature importances from various classifiers:\n",
    "- 'Sex' and 'Title' are consistently identified as highly important features across Random Forest, Extra Trees, and AdaBoost classifiers.\n",
    "- 'Lastname' receives the highest importance from AdaBoost and Gradient Boosting classifiers, suggesting family groups might have affected survival.\n",
    "- 'Age' is moderately important across most classifiers, with Gradient Boosting assigning relatively higher importance.\n",
    "- 'Fare' shows moderate importance, indicating ticket fare might have influenced survival.\n",
    "- 'Deck' receives relatively higher importance from Gradient Boosting, suggesting cabin location as a factor.\n",
    "- 'IsAlone' and 'IsChild' have low importance across all classifiers, implying they might not have significantly influenced survival.\n",
    "##### These observations highlight the varying perspectives of different classifiers on feature importance and suggest potential factors influencing survival aboard the Titanic.\n"
   ]
  },
  {
   "cell_type": "code",
   "execution_count": null,
   "metadata": {
    "colab": {
     "base_uri": "https://localhost:8080/",
     "height": 449
    },
    "id": "mcaqJeHV9KUx",
    "outputId": "0d3eae8f-5e1a-400a-dd1d-26278d352b43"
   },
   "outputs": [],
   "source": [
    "#Plotting the mean of the features\n",
    "import seaborn as sns\n",
    "\n",
    "sns.set_context('paper')\n",
    "sns.barplot(x = 'features', y = 'mean',  data = feature_dataframe.sort_values(by=['mean']),palette = 'Blues', edgecolor = 'w')\n",
    "plt.show()"
   ]
  },
  {
   "cell_type": "code",
   "execution_count": null,
   "metadata": {
    "colab": {
     "base_uri": "https://localhost:8080/"
    },
    "id": "zyv-3RwK9KUx",
    "outputId": "5e315f0a-8de9-430d-ea27-3eff468329e5"
   },
   "outputs": [],
   "source": [
    "# Generate out-of-fold predictions\n",
    "\n",
    "et_oof_train, et_oof_test = get_oof(et, x_train, y_train, x_test)     # Extra Trees\n",
    "rf_oof_train, rf_oof_test = get_oof(rf, x_train, y_train, x_test)     # Random Forest\n",
    "ada_oof_train, ada_oof_test = get_oof(ada, x_train, y_train, x_test)  # AdaBoost\n",
    "gb_oof_train, gb_oof_test = get_oof(gb, x_train, y_train, x_test)     # Gradient Boost\n",
    "svc_oof_train, svc_oof_test = get_oof(svc, x_train, y_train, x_test)  # Support Vector Classifier\n"
   ]
  },
  {
   "cell_type": "code",
   "execution_count": null,
   "metadata": {
    "colab": {
     "base_uri": "https://localhost:8080/",
     "height": 206
    },
    "id": "5lqb5aBf9KUx",
    "outputId": "85f90e78-cba9-4b57-cb03-cffccdd22fb2",
    "pycharm": {
     "name": "#%%\n"
    }
   },
   "outputs": [],
   "source": [
    "# Assemble base predictions for training data\n",
    "base_predictions_train = pd.DataFrame({\n",
    "    'RandomForest': rf_oof_train.ravel(),       # Predictions using Random Forest classifier\n",
    "    'ExtraTrees': et_oof_train.ravel(),         # Predictions using Extra Trees classifier\n",
    "    'AdaBoost': ada_oof_train.ravel(),          # Predictions using AdaBoost classifier\n",
    "    'GradientBoost': gb_oof_train.ravel(),      # Predictions using Gradient Boosting classifier\n",
    "    'SVC': svc_oof_train.ravel()                # Predictions using Support Vector Classifier\n",
    "})\n",
    "\n",
    "# Display the initial rows of the assembled base predictions\n",
    "base_predictions_train.head()\n"
   ]
  },
  {
   "cell_type": "markdown",
   "metadata": {
    "id": "iK4X1P6h9KUy",
    "pycharm": {
     "name": "#%% md\n"
    }
   },
   "source": [
    "Concatenation of all new features into a dataframe and creation of X_train and X_test."
   ]
  },
  {
   "cell_type": "code",
   "execution_count": null,
   "metadata": {
    "id": "rq9MgFos9KUy",
    "pycharm": {
     "name": "#%%\n"
    }
   },
   "outputs": [],
   "source": [
    "# Concatenate OOF predictions for training dataset\n",
    "x_train = np.concatenate((et_oof_train, rf_oof_train, ada_oof_train, gb_oof_train, svc_oof_train), axis=1)\n",
    "\n",
    "# Concatenate OOF predictions for test dataset\n",
    "x_test = np.concatenate((et_oof_test, rf_oof_test, ada_oof_test, gb_oof_test, svc_oof_test), axis=1)"
   ]
  },
  {
   "cell_type": "markdown",
   "metadata": {
    "id": "cguUeTKYAe_j"
   },
   "source": []
  },
  {
   "cell_type": "markdown",
   "metadata": {
    "id": "TIx7-5Dd9KUy"
   },
   "source": [
    "### Part 5: Model Creation and prediction"
   ]
  },
  {
   "cell_type": "markdown",
   "metadata": {
    "id": "ZBwU_NbF9KUy",
    "pycharm": {
     "name": "#%% md\n"
    }
   },
   "source": [
    "Finding the best Model by using different Algorithms:"
   ]
  },
  {
   "cell_type": "markdown",
   "metadata": {
    "id": "yidMHayzE3JO"
   },
   "source": [
    "  1. Using XGBoost Algorithm"
   ]
  },
  {
   "cell_type": "code",
   "execution_count": null,
   "metadata": {
    "colab": {
     "base_uri": "https://localhost:8080/"
    },
    "id": "--n9czvd9KUz",
    "outputId": "d888719d-3b45-48a9-a8e3-3829e12b6c9e"
   },
   "outputs": [],
   "source": [
    "from xgboost import XGBClassifier\n",
    "\n",
    "# Defining and training the XGBoost classifier\n",
    "gbm = XGBClassifier(base_score=0.5, booster='gbtree', colsample_bylevel=1,\n",
    "              colsample_bynode=1, colsample_bytree=0.3, gamma=0.0, gpu_id=-1,\n",
    "              importance_type='gain', interaction_constraints='',\n",
    "              learning_rate=0.15, max_delta_step=0, max_depth=5,\n",
    "              min_child_weight=7, monotone_constraints='()',\n",
    "              n_estimators=600, n_jobs=1, nthread=1, num_parallel_tree=1,\n",
    "              random_state=0, reg_alpha=0, reg_lambda=1, scale_pos_weight=1,\n",
    "              silent=True, subsample=1.0, tree_method='exact',\n",
    "              validate_parameters=1, verbosity=None).fit(x_train, y_train)\n",
    "\n",
    "# Making predictions using the trained XGBoost classifier\n",
    "predictions = gbm.predict(x_test)\n"
   ]
  },
  {
   "cell_type": "code",
   "execution_count": null,
   "metadata": {
    "id": "4_mBVQVX9KUz",
    "jupyter": {
     "outputs_hidden": false
    },
    "pycharm": {
     "name": "#%%\n"
    }
   },
   "outputs": [],
   "source": [
    "# Write the predictions to a result.csv file\n",
    "write_prediction(predictions,'results.csv')"
   ]
  },
  {
   "cell_type": "markdown",
   "metadata": {
    "id": "-ZIb89Ru9KUz",
    "pycharm": {
     "name": "#%% md\n"
    }
   },
   "source": [
    "2. Using RandomForest Algorithm"
   ]
  },
  {
   "cell_type": "code",
   "execution_count": null,
   "metadata": {
    "colab": {
     "base_uri": "https://localhost:8080/"
    },
    "id": "P6xVlkPv9KU0",
    "jupyter": {
     "outputs_hidden": false
    },
    "outputId": "d77be673-d78f-4dec-8f83-d4ddb3cacec5",
    "pycharm": {
     "name": "#%%\n"
    }
   },
   "outputs": [],
   "source": [
    "from sklearn.model_selection import cross_val_score\n",
    "rf = RandomForestClassifier(n_estimators=100)\n",
    "scores = cross_val_score(rf, x_train, y_train, cv=10, scoring = \"accuracy\")\n",
    "print(\"Scores:\", scores)\n",
    "print(\"Mean:\", scores.mean())\n",
    "print(\"Standard Deviation:\", scores.std())"
   ]
  },
  {
   "cell_type": "code",
   "execution_count": null,
   "metadata": {
    "id": "ISl4-s2H9KU0"
   },
   "outputs": [],
   "source": [
    "#Performing hyperparameter tuning and finding the best parameters for RandomForest Algorithm\n",
    "param_grid = { \"criterion\" : [\"gini\", \"entropy\"], \"min_samples_leaf\" : [1, 5, 10, 25, 50, 70], \"min_samples_split\" : [2, 4, 10, 12, 16, 18, 25, 35], \"n_estimators\": [100, 400, 700, 1000, 1500]}\n",
    "from sklearn.model_selection import GridSearchCV, cross_val_score\n",
    "rf = RandomForestClassifier(n_estimators=100, max_features='auto', oob_score=True, random_state=1, n_jobs=-1)\n",
    "clf = GridSearchCV(estimator=rf, param_grid=param_grid, n_jobs=-1)\n",
    "clf.fit(x_train, y_train)\n",
    "clf.best_params_"
   ]
  },
  {
   "cell_type": "code",
   "execution_count": null,
   "metadata": {
    "colab": {
     "base_uri": "https://localhost:8080/"
    },
    "id": "H-dvmC0g9KU0",
    "jupyter": {
     "outputs_hidden": false
    },
    "outputId": "89cd25a1-2c24-427a-916a-0657c1adc6ab",
    "pycharm": {
     "name": "#%%\n"
    }
   },
   "outputs": [],
   "source": [
    "# One can also use these parameters too\n",
    "# {'criterion': 'gini',\n",
    "#  'min_samples_leaf': 1,\n",
    "#  'min_samples_split': 16,\n",
    "#  'n_estimators': 1000}\n",
    "\n",
    "random_forest = RandomForestClassifier(criterion = \"gini\",\n",
    "                                       min_samples_leaf = 1,\n",
    "                                       min_samples_split = 12,\n",
    "                                       n_estimators=1000,\n",
    "                                       max_features='auto',\n",
    "                                       oob_score=True,\n",
    "                                       random_state=1,\n",
    "                                       n_jobs=-1)\n",
    "\n",
    "random_forest.fit(x_train, y_train)\n",
    "Y_prediction = random_forest.predict(x_test)\n",
    "random_forest.score(x_train, y_train)\n",
    "print(\"oob score of the model is:\", round(random_forest.oob_score_, 4)*100, \"%\")"
   ]
  },
  {
   "cell_type": "code",
   "execution_count": null,
   "metadata": {
    "id": "z9snqMUk9KU1",
    "jupyter": {
     "outputs_hidden": false
    },
    "pycharm": {
     "name": "#%%\n"
    }
   },
   "outputs": [],
   "source": [
    " # Write predictions to 'results.csv'\n",
    " write_prediction(Y_prediction,'results.csv')"
   ]
  },
  {
   "cell_type": "markdown",
   "metadata": {
    "id": "N1sGFQye9KU1",
    "pycharm": {
     "name": "#%% md\n"
    }
   },
   "source": [
    "3. Using Decision Trees Classifier"
   ]
  },
  {
   "cell_type": "code",
   "execution_count": null,
   "metadata": {
    "colab": {
     "base_uri": "https://localhost:8080/",
     "height": 109
    },
    "id": "qmp5HOUr9KU1",
    "jupyter": {
     "outputs_hidden": false
    },
    "outputId": "279f1820-4027-4c30-dbfd-7e979b3a45e5",
    "pycharm": {
     "name": "#%%\n"
    }
   },
   "outputs": [],
   "source": [
    "# Instantiating and fitting an Extra Trees Classifier\n",
    "extc = ExtraTreesClassifier(n_estimators=1000, max_features=4, criterion='entropy', min_samples_split=5,\n",
    "                            max_depth=50, min_samples_leaf=5)\n",
    "\n",
    "extc.fit(x_train, y_train)\n"
   ]
  },
  {
   "cell_type": "code",
   "execution_count": null,
   "metadata": {
    "id": "vJrwjtds9KU2",
    "jupyter": {
     "outputs_hidden": false
    },
    "pycharm": {
     "name": "#%%\n"
    }
   },
   "outputs": [],
   "source": [
    "y_pred = extc.predict(x_test)"
   ]
  },
  {
   "cell_type": "code",
   "execution_count": null,
   "metadata": {
    "id": "p8LeDF3E9KU2",
    "jupyter": {
     "outputs_hidden": false
    },
    "pycharm": {
     "name": "#%%\n"
    }
   },
   "outputs": [],
   "source": [
    "# Write predictions to 'results.csv'\n",
    "write_prediction(y_pred,'results.csv')"
   ]
  },
  {
   "cell_type": "code",
   "execution_count": null,
   "metadata": {
    "id": "geZypK12Hojt"
   },
   "outputs": [],
   "source": []
  },
  {
   "cell_type": "markdown",
   "metadata": {
    "id": "NWdnhA9f9KU2"
   },
   "source": [
    "## Inferences\n",
    "\n",
    "This model mainly predicts the characteristics of passengers survived the titanic shipwreck\n",
    "The main challenge here is to select the best features of the passengers survived\n",
    "By building the model in this way the most relevant features are selected and based on this, we can easily find out if a passenger has survived or not in the test dataset."
   ]
  },
  {
   "cell_type": "markdown",
   "metadata": {
    "id": "Tb6xKFjY9KU2"
   },
   "source": [
    "Finding the best Model by using different Algorithms:\n",
    "    1. Using XGBoost Algorithm"
   ]
  },
  {
   "cell_type": "code",
   "execution_count": null,
   "metadata": {},
   "outputs": [],
   "source": []
  }
 ],
 "metadata": {
  "colab": {
   "provenance": []
  },
  "kernelspec": {
   "display_name": "Python 3 (ipykernel)",
   "language": "python",
   "name": "python3"
  },
  "language_info": {
   "codemirror_mode": {
    "name": "ipython",
    "version": 3
   },
   "file_extension": ".py",
   "mimetype": "text/x-python",
   "name": "python",
   "nbconvert_exporter": "python",
   "pygments_lexer": "ipython3",
   "version": "3.11.5"
  },
  "widgets": {
   "application/vnd.jupyter.widget-state+json": {
    "012c44abeebb4a2e9220e6859c7a9184": {
     "model_module": "@jupyter-widgets/controls",
     "model_module_version": "1.5.0",
     "model_name": "HTMLModel",
     "state": {
      "_dom_classes": [],
      "_model_module": "@jupyter-widgets/controls",
      "_model_module_version": "1.5.0",
      "_model_name": "HTMLModel",
      "_view_count": null,
      "_view_module": "@jupyter-widgets/controls",
      "_view_module_version": "1.5.0",
      "_view_name": "HTMLView",
      "description": "",
      "description_tooltip": null,
      "layout": "IPY_MODEL_3a61d27058f0438f90e6666c0273be5a",
      "placeholder": "​",
      "style": "IPY_MODEL_56c635f6426f4fabbcd50146c1435807",
      "value": " 47/47 [00:09&lt;00:00,  3.38it/s, Completed]"
     }
    },
    "0bce13e506744e229e76ee9105319e06": {
     "model_module": "@jupyter-widgets/controls",
     "model_module_version": "1.5.0",
     "model_name": "FloatProgressModel",
     "state": {
      "_dom_classes": [],
      "_model_module": "@jupyter-widgets/controls",
      "_model_module_version": "1.5.0",
      "_model_name": "FloatProgressModel",
      "_view_count": null,
      "_view_module": "@jupyter-widgets/controls",
      "_view_module_version": "1.5.0",
      "_view_name": "ProgressView",
      "bar_style": "success",
      "description": "",
      "description_tooltip": null,
      "layout": "IPY_MODEL_7d07c58f8476423c97610c98cf49dece",
      "max": 1,
      "min": 0,
      "orientation": "horizontal",
      "style": "IPY_MODEL_b36ad4201bd0492c9900e4457fa49ce3",
      "value": 1
     }
    },
    "1880ef887d7b4a53a136a5bec4cdb849": {
     "model_module": "@jupyter-widgets/controls",
     "model_module_version": "1.5.0",
     "model_name": "HTMLModel",
     "state": {
      "_dom_classes": [],
      "_model_module": "@jupyter-widgets/controls",
      "_model_module_version": "1.5.0",
      "_model_name": "HTMLModel",
      "_view_count": null,
      "_view_module": "@jupyter-widgets/controls",
      "_view_module_version": "1.5.0",
      "_view_name": "HTMLView",
      "description": "",
      "description_tooltip": null,
      "layout": "IPY_MODEL_5049ecd2fae74fdf99e9eb6858496bcf",
      "placeholder": "​",
      "style": "IPY_MODEL_a377ab7a94ee4a938caf63125f8d1c9b",
      "value": " 1/1 [00:01&lt;00:00,  1.63s/it]"
     }
    },
    "1ac4adb33fae470bbed0bca6b7afffba": {
     "model_module": "@jupyter-widgets/base",
     "model_module_version": "1.2.0",
     "model_name": "LayoutModel",
     "state": {
      "_model_module": "@jupyter-widgets/base",
      "_model_module_version": "1.2.0",
      "_model_name": "LayoutModel",
      "_view_count": null,
      "_view_module": "@jupyter-widgets/base",
      "_view_module_version": "1.2.0",
      "_view_name": "LayoutView",
      "align_content": null,
      "align_items": null,
      "align_self": null,
      "border": null,
      "bottom": null,
      "display": null,
      "flex": null,
      "flex_flow": null,
      "grid_area": null,
      "grid_auto_columns": null,
      "grid_auto_flow": null,
      "grid_auto_rows": null,
      "grid_column": null,
      "grid_gap": null,
      "grid_row": null,
      "grid_template_areas": null,
      "grid_template_columns": null,
      "grid_template_rows": null,
      "height": null,
      "justify_content": null,
      "justify_items": null,
      "left": null,
      "margin": null,
      "max_height": null,
      "max_width": null,
      "min_height": null,
      "min_width": null,
      "object_fit": null,
      "object_position": null,
      "order": null,
      "overflow": null,
      "overflow_x": null,
      "overflow_y": null,
      "padding": null,
      "right": null,
      "top": null,
      "visibility": null,
      "width": null
     }
    },
    "2bcffe04d35240c1a970d05ac9491268": {
     "model_module": "@jupyter-widgets/controls",
     "model_module_version": "1.5.0",
     "model_name": "HTMLModel",
     "state": {
      "_dom_classes": [],
      "_model_module": "@jupyter-widgets/controls",
      "_model_module_version": "1.5.0",
      "_model_name": "HTMLModel",
      "_view_count": null,
      "_view_module": "@jupyter-widgets/controls",
      "_view_module_version": "1.5.0",
      "_view_name": "HTMLView",
      "description": "",
      "description_tooltip": null,
      "layout": "IPY_MODEL_1ac4adb33fae470bbed0bca6b7afffba",
      "placeholder": "​",
      "style": "IPY_MODEL_64e985e473a74b119d1a9310dae6e1bf",
      "value": "Render HTML: 100%"
     }
    },
    "2e20eb2fb8d84703a849f154755423ac": {
     "model_module": "@jupyter-widgets/controls",
     "model_module_version": "1.5.0",
     "model_name": "DescriptionStyleModel",
     "state": {
      "_model_module": "@jupyter-widgets/controls",
      "_model_module_version": "1.5.0",
      "_model_name": "DescriptionStyleModel",
      "_view_count": null,
      "_view_module": "@jupyter-widgets/base",
      "_view_module_version": "1.2.0",
      "_view_name": "StyleView",
      "description_width": ""
     }
    },
    "3a61d27058f0438f90e6666c0273be5a": {
     "model_module": "@jupyter-widgets/base",
     "model_module_version": "1.2.0",
     "model_name": "LayoutModel",
     "state": {
      "_model_module": "@jupyter-widgets/base",
      "_model_module_version": "1.2.0",
      "_model_name": "LayoutModel",
      "_view_count": null,
      "_view_module": "@jupyter-widgets/base",
      "_view_module_version": "1.2.0",
      "_view_name": "LayoutView",
      "align_content": null,
      "align_items": null,
      "align_self": null,
      "border": null,
      "bottom": null,
      "display": null,
      "flex": null,
      "flex_flow": null,
      "grid_area": null,
      "grid_auto_columns": null,
      "grid_auto_flow": null,
      "grid_auto_rows": null,
      "grid_column": null,
      "grid_gap": null,
      "grid_row": null,
      "grid_template_areas": null,
      "grid_template_columns": null,
      "grid_template_rows": null,
      "height": null,
      "justify_content": null,
      "justify_items": null,
      "left": null,
      "margin": null,
      "max_height": null,
      "max_width": null,
      "min_height": null,
      "min_width": null,
      "object_fit": null,
      "object_position": null,
      "order": null,
      "overflow": null,
      "overflow_x": null,
      "overflow_y": null,
      "padding": null,
      "right": null,
      "top": null,
      "visibility": null,
      "width": null
     }
    },
    "47eed2fd5d934cd49d649c612e802c26": {
     "model_module": "@jupyter-widgets/controls",
     "model_module_version": "1.5.0",
     "model_name": "FloatProgressModel",
     "state": {
      "_dom_classes": [],
      "_model_module": "@jupyter-widgets/controls",
      "_model_module_version": "1.5.0",
      "_model_name": "FloatProgressModel",
      "_view_count": null,
      "_view_module": "@jupyter-widgets/controls",
      "_view_module_version": "1.5.0",
      "_view_name": "ProgressView",
      "bar_style": "success",
      "description": "",
      "description_tooltip": null,
      "layout": "IPY_MODEL_e20459e3623d4877b30fc548e56bc1f9",
      "max": 1,
      "min": 0,
      "orientation": "horizontal",
      "style": "IPY_MODEL_7f21edbae6a845ef8366af3d37d168af",
      "value": 1
     }
    },
    "4b1fa594426241e4a69b0dd5e3181fd2": {
     "model_module": "@jupyter-widgets/controls",
     "model_module_version": "1.5.0",
     "model_name": "FloatProgressModel",
     "state": {
      "_dom_classes": [],
      "_model_module": "@jupyter-widgets/controls",
      "_model_module_version": "1.5.0",
      "_model_name": "FloatProgressModel",
      "_view_count": null,
      "_view_module": "@jupyter-widgets/controls",
      "_view_module_version": "1.5.0",
      "_view_name": "ProgressView",
      "bar_style": "success",
      "description": "",
      "description_tooltip": null,
      "layout": "IPY_MODEL_88228998e5ea4095a154783dc5759e72",
      "max": 5,
      "min": 0,
      "orientation": "horizontal",
      "style": "IPY_MODEL_881c76c56b924d42b1a2879e4fd3d25e",
      "value": 5
     }
    },
    "5049ecd2fae74fdf99e9eb6858496bcf": {
     "model_module": "@jupyter-widgets/base",
     "model_module_version": "1.2.0",
     "model_name": "LayoutModel",
     "state": {
      "_model_module": "@jupyter-widgets/base",
      "_model_module_version": "1.2.0",
      "_model_name": "LayoutModel",
      "_view_count": null,
      "_view_module": "@jupyter-widgets/base",
      "_view_module_version": "1.2.0",
      "_view_name": "LayoutView",
      "align_content": null,
      "align_items": null,
      "align_self": null,
      "border": null,
      "bottom": null,
      "display": null,
      "flex": null,
      "flex_flow": null,
      "grid_area": null,
      "grid_auto_columns": null,
      "grid_auto_flow": null,
      "grid_auto_rows": null,
      "grid_column": null,
      "grid_gap": null,
      "grid_row": null,
      "grid_template_areas": null,
      "grid_template_columns": null,
      "grid_template_rows": null,
      "height": null,
      "justify_content": null,
      "justify_items": null,
      "left": null,
      "margin": null,
      "max_height": null,
      "max_width": null,
      "min_height": null,
      "min_width": null,
      "object_fit": null,
      "object_position": null,
      "order": null,
      "overflow": null,
      "overflow_x": null,
      "overflow_y": null,
      "padding": null,
      "right": null,
      "top": null,
      "visibility": null,
      "width": null
     }
    },
    "50e6b37704bc44f58fd029015b1705dc": {
     "model_module": "@jupyter-widgets/base",
     "model_module_version": "1.2.0",
     "model_name": "LayoutModel",
     "state": {
      "_model_module": "@jupyter-widgets/base",
      "_model_module_version": "1.2.0",
      "_model_name": "LayoutModel",
      "_view_count": null,
      "_view_module": "@jupyter-widgets/base",
      "_view_module_version": "1.2.0",
      "_view_name": "LayoutView",
      "align_content": null,
      "align_items": null,
      "align_self": null,
      "border": null,
      "bottom": null,
      "display": null,
      "flex": null,
      "flex_flow": null,
      "grid_area": null,
      "grid_auto_columns": null,
      "grid_auto_flow": null,
      "grid_auto_rows": null,
      "grid_column": null,
      "grid_gap": null,
      "grid_row": null,
      "grid_template_areas": null,
      "grid_template_columns": null,
      "grid_template_rows": null,
      "height": null,
      "justify_content": null,
      "justify_items": null,
      "left": null,
      "margin": null,
      "max_height": null,
      "max_width": null,
      "min_height": null,
      "min_width": null,
      "object_fit": null,
      "object_position": null,
      "order": null,
      "overflow": null,
      "overflow_x": null,
      "overflow_y": null,
      "padding": null,
      "right": null,
      "top": null,
      "visibility": null,
      "width": null
     }
    },
    "56c635f6426f4fabbcd50146c1435807": {
     "model_module": "@jupyter-widgets/controls",
     "model_module_version": "1.5.0",
     "model_name": "DescriptionStyleModel",
     "state": {
      "_model_module": "@jupyter-widgets/controls",
      "_model_module_version": "1.5.0",
      "_model_name": "DescriptionStyleModel",
      "_view_count": null,
      "_view_module": "@jupyter-widgets/base",
      "_view_module_version": "1.2.0",
      "_view_name": "StyleView",
      "description_width": ""
     }
    },
    "5a49c2e47b1a461e97f32e2b8bb10d8d": {
     "model_module": "@jupyter-widgets/controls",
     "model_module_version": "1.5.0",
     "model_name": "DescriptionStyleModel",
     "state": {
      "_model_module": "@jupyter-widgets/controls",
      "_model_module_version": "1.5.0",
      "_model_name": "DescriptionStyleModel",
      "_view_count": null,
      "_view_module": "@jupyter-widgets/base",
      "_view_module_version": "1.2.0",
      "_view_name": "StyleView",
      "description_width": ""
     }
    },
    "61038780d5c44705b557fe425666ce86": {
     "model_module": "@jupyter-widgets/base",
     "model_module_version": "1.2.0",
     "model_name": "LayoutModel",
     "state": {
      "_model_module": "@jupyter-widgets/base",
      "_model_module_version": "1.2.0",
      "_model_name": "LayoutModel",
      "_view_count": null,
      "_view_module": "@jupyter-widgets/base",
      "_view_module_version": "1.2.0",
      "_view_name": "LayoutView",
      "align_content": null,
      "align_items": null,
      "align_self": null,
      "border": null,
      "bottom": null,
      "display": null,
      "flex": null,
      "flex_flow": null,
      "grid_area": null,
      "grid_auto_columns": null,
      "grid_auto_flow": null,
      "grid_auto_rows": null,
      "grid_column": null,
      "grid_gap": null,
      "grid_row": null,
      "grid_template_areas": null,
      "grid_template_columns": null,
      "grid_template_rows": null,
      "height": null,
      "justify_content": null,
      "justify_items": null,
      "left": null,
      "margin": null,
      "max_height": null,
      "max_width": null,
      "min_height": null,
      "min_width": null,
      "object_fit": null,
      "object_position": null,
      "order": null,
      "overflow": null,
      "overflow_x": null,
      "overflow_y": null,
      "padding": null,
      "right": null,
      "top": null,
      "visibility": null,
      "width": null
     }
    },
    "64e985e473a74b119d1a9310dae6e1bf": {
     "model_module": "@jupyter-widgets/controls",
     "model_module_version": "1.5.0",
     "model_name": "DescriptionStyleModel",
     "state": {
      "_model_module": "@jupyter-widgets/controls",
      "_model_module_version": "1.5.0",
      "_model_name": "DescriptionStyleModel",
      "_view_count": null,
      "_view_module": "@jupyter-widgets/base",
      "_view_module_version": "1.2.0",
      "_view_name": "StyleView",
      "description_width": ""
     }
    },
    "6b5248e2b53143c1b36e2a3f77a3e25f": {
     "model_module": "@jupyter-widgets/controls",
     "model_module_version": "1.5.0",
     "model_name": "HBoxModel",
     "state": {
      "_dom_classes": [],
      "_model_module": "@jupyter-widgets/controls",
      "_model_module_version": "1.5.0",
      "_model_name": "HBoxModel",
      "_view_count": null,
      "_view_module": "@jupyter-widgets/controls",
      "_view_module_version": "1.5.0",
      "_view_name": "HBoxView",
      "box_style": "",
      "children": [
       "IPY_MODEL_a502edfc8074490da255839d08f9691e",
       "IPY_MODEL_4b1fa594426241e4a69b0dd5e3181fd2",
       "IPY_MODEL_012c44abeebb4a2e9220e6859c7a9184"
      ],
      "layout": "IPY_MODEL_6bacb346d0144b80af0e945a8313fbd7"
     }
    },
    "6bacb346d0144b80af0e945a8313fbd7": {
     "model_module": "@jupyter-widgets/base",
     "model_module_version": "1.2.0",
     "model_name": "LayoutModel",
     "state": {
      "_model_module": "@jupyter-widgets/base",
      "_model_module_version": "1.2.0",
      "_model_name": "LayoutModel",
      "_view_count": null,
      "_view_module": "@jupyter-widgets/base",
      "_view_module_version": "1.2.0",
      "_view_name": "LayoutView",
      "align_content": null,
      "align_items": null,
      "align_self": null,
      "border": null,
      "bottom": null,
      "display": null,
      "flex": null,
      "flex_flow": null,
      "grid_area": null,
      "grid_auto_columns": null,
      "grid_auto_flow": null,
      "grid_auto_rows": null,
      "grid_column": null,
      "grid_gap": null,
      "grid_row": null,
      "grid_template_areas": null,
      "grid_template_columns": null,
      "grid_template_rows": null,
      "height": null,
      "justify_content": null,
      "justify_items": null,
      "left": null,
      "margin": null,
      "max_height": null,
      "max_width": null,
      "min_height": null,
      "min_width": null,
      "object_fit": null,
      "object_position": null,
      "order": null,
      "overflow": null,
      "overflow_x": null,
      "overflow_y": null,
      "padding": null,
      "right": null,
      "top": null,
      "visibility": null,
      "width": null
     }
    },
    "6c1e8b734fa64a07bdd42e6dbcf050be": {
     "model_module": "@jupyter-widgets/base",
     "model_module_version": "1.2.0",
     "model_name": "LayoutModel",
     "state": {
      "_model_module": "@jupyter-widgets/base",
      "_model_module_version": "1.2.0",
      "_model_name": "LayoutModel",
      "_view_count": null,
      "_view_module": "@jupyter-widgets/base",
      "_view_module_version": "1.2.0",
      "_view_name": "LayoutView",
      "align_content": null,
      "align_items": null,
      "align_self": null,
      "border": null,
      "bottom": null,
      "display": null,
      "flex": null,
      "flex_flow": null,
      "grid_area": null,
      "grid_auto_columns": null,
      "grid_auto_flow": null,
      "grid_auto_rows": null,
      "grid_column": null,
      "grid_gap": null,
      "grid_row": null,
      "grid_template_areas": null,
      "grid_template_columns": null,
      "grid_template_rows": null,
      "height": null,
      "justify_content": null,
      "justify_items": null,
      "left": null,
      "margin": null,
      "max_height": null,
      "max_width": null,
      "min_height": null,
      "min_width": null,
      "object_fit": null,
      "object_position": null,
      "order": null,
      "overflow": null,
      "overflow_x": null,
      "overflow_y": null,
      "padding": null,
      "right": null,
      "top": null,
      "visibility": null,
      "width": null
     }
    },
    "6e9e88fadfbb4a4cbc687c946be22047": {
     "model_module": "@jupyter-widgets/base",
     "model_module_version": "1.2.0",
     "model_name": "LayoutModel",
     "state": {
      "_model_module": "@jupyter-widgets/base",
      "_model_module_version": "1.2.0",
      "_model_name": "LayoutModel",
      "_view_count": null,
      "_view_module": "@jupyter-widgets/base",
      "_view_module_version": "1.2.0",
      "_view_name": "LayoutView",
      "align_content": null,
      "align_items": null,
      "align_self": null,
      "border": null,
      "bottom": null,
      "display": null,
      "flex": null,
      "flex_flow": null,
      "grid_area": null,
      "grid_auto_columns": null,
      "grid_auto_flow": null,
      "grid_auto_rows": null,
      "grid_column": null,
      "grid_gap": null,
      "grid_row": null,
      "grid_template_areas": null,
      "grid_template_columns": null,
      "grid_template_rows": null,
      "height": null,
      "justify_content": null,
      "justify_items": null,
      "left": null,
      "margin": null,
      "max_height": null,
      "max_width": null,
      "min_height": null,
      "min_width": null,
      "object_fit": null,
      "object_position": null,
      "order": null,
      "overflow": null,
      "overflow_x": null,
      "overflow_y": null,
      "padding": null,
      "right": null,
      "top": null,
      "visibility": null,
      "width": null
     }
    },
    "77fd24186400488aa2bf90cce5d342b3": {
     "model_module": "@jupyter-widgets/controls",
     "model_module_version": "1.5.0",
     "model_name": "ProgressStyleModel",
     "state": {
      "_model_module": "@jupyter-widgets/controls",
      "_model_module_version": "1.5.0",
      "_model_name": "ProgressStyleModel",
      "_view_count": null,
      "_view_module": "@jupyter-widgets/base",
      "_view_module_version": "1.2.0",
      "_view_name": "StyleView",
      "bar_color": null,
      "description_width": ""
     }
    },
    "792e977b42184ac7bd7b71e03fe2b0c0": {
     "model_module": "@jupyter-widgets/controls",
     "model_module_version": "1.5.0",
     "model_name": "HTMLModel",
     "state": {
      "_dom_classes": [],
      "_model_module": "@jupyter-widgets/controls",
      "_model_module_version": "1.5.0",
      "_model_name": "HTMLModel",
      "_view_count": null,
      "_view_module": "@jupyter-widgets/controls",
      "_view_module_version": "1.5.0",
      "_view_name": "HTMLView",
      "description": "",
      "description_tooltip": null,
      "layout": "IPY_MODEL_6c1e8b734fa64a07bdd42e6dbcf050be",
      "placeholder": "​",
      "style": "IPY_MODEL_7db8a925efac400f9b3f94f74606aeeb",
      "value": "Generate report structure: 100%"
     }
    },
    "7d07c58f8476423c97610c98cf49dece": {
     "model_module": "@jupyter-widgets/base",
     "model_module_version": "1.2.0",
     "model_name": "LayoutModel",
     "state": {
      "_model_module": "@jupyter-widgets/base",
      "_model_module_version": "1.2.0",
      "_model_name": "LayoutModel",
      "_view_count": null,
      "_view_module": "@jupyter-widgets/base",
      "_view_module_version": "1.2.0",
      "_view_name": "LayoutView",
      "align_content": null,
      "align_items": null,
      "align_self": null,
      "border": null,
      "bottom": null,
      "display": null,
      "flex": null,
      "flex_flow": null,
      "grid_area": null,
      "grid_auto_columns": null,
      "grid_auto_flow": null,
      "grid_auto_rows": null,
      "grid_column": null,
      "grid_gap": null,
      "grid_row": null,
      "grid_template_areas": null,
      "grid_template_columns": null,
      "grid_template_rows": null,
      "height": null,
      "justify_content": null,
      "justify_items": null,
      "left": null,
      "margin": null,
      "max_height": null,
      "max_width": null,
      "min_height": null,
      "min_width": null,
      "object_fit": null,
      "object_position": null,
      "order": null,
      "overflow": null,
      "overflow_x": null,
      "overflow_y": null,
      "padding": null,
      "right": null,
      "top": null,
      "visibility": null,
      "width": null
     }
    },
    "7db8a925efac400f9b3f94f74606aeeb": {
     "model_module": "@jupyter-widgets/controls",
     "model_module_version": "1.5.0",
     "model_name": "DescriptionStyleModel",
     "state": {
      "_model_module": "@jupyter-widgets/controls",
      "_model_module_version": "1.5.0",
      "_model_name": "DescriptionStyleModel",
      "_view_count": null,
      "_view_module": "@jupyter-widgets/base",
      "_view_module_version": "1.2.0",
      "_view_name": "StyleView",
      "description_width": ""
     }
    },
    "7f21edbae6a845ef8366af3d37d168af": {
     "model_module": "@jupyter-widgets/controls",
     "model_module_version": "1.5.0",
     "model_name": "ProgressStyleModel",
     "state": {
      "_model_module": "@jupyter-widgets/controls",
      "_model_module_version": "1.5.0",
      "_model_name": "ProgressStyleModel",
      "_view_count": null,
      "_view_module": "@jupyter-widgets/base",
      "_view_module_version": "1.2.0",
      "_view_name": "StyleView",
      "bar_color": null,
      "description_width": ""
     }
    },
    "812c8332ae8a4f3993b3ce735c310758": {
     "model_module": "@jupyter-widgets/controls",
     "model_module_version": "1.5.0",
     "model_name": "DescriptionStyleModel",
     "state": {
      "_model_module": "@jupyter-widgets/controls",
      "_model_module_version": "1.5.0",
      "_model_name": "DescriptionStyleModel",
      "_view_count": null,
      "_view_module": "@jupyter-widgets/base",
      "_view_module_version": "1.2.0",
      "_view_name": "StyleView",
      "description_width": ""
     }
    },
    "8257ddbbb61f478a9941477d85ed2910": {
     "model_module": "@jupyter-widgets/base",
     "model_module_version": "1.2.0",
     "model_name": "LayoutModel",
     "state": {
      "_model_module": "@jupyter-widgets/base",
      "_model_module_version": "1.2.0",
      "_model_name": "LayoutModel",
      "_view_count": null,
      "_view_module": "@jupyter-widgets/base",
      "_view_module_version": "1.2.0",
      "_view_name": "LayoutView",
      "align_content": null,
      "align_items": null,
      "align_self": null,
      "border": null,
      "bottom": null,
      "display": null,
      "flex": null,
      "flex_flow": null,
      "grid_area": null,
      "grid_auto_columns": null,
      "grid_auto_flow": null,
      "grid_auto_rows": null,
      "grid_column": null,
      "grid_gap": null,
      "grid_row": null,
      "grid_template_areas": null,
      "grid_template_columns": null,
      "grid_template_rows": null,
      "height": null,
      "justify_content": null,
      "justify_items": null,
      "left": null,
      "margin": null,
      "max_height": null,
      "max_width": null,
      "min_height": null,
      "min_width": null,
      "object_fit": null,
      "object_position": null,
      "order": null,
      "overflow": null,
      "overflow_x": null,
      "overflow_y": null,
      "padding": null,
      "right": null,
      "top": null,
      "visibility": null,
      "width": null
     }
    },
    "86be2faad35445f4b78bbcffad24aa9d": {
     "model_module": "@jupyter-widgets/controls",
     "model_module_version": "1.5.0",
     "model_name": "HBoxModel",
     "state": {
      "_dom_classes": [],
      "_model_module": "@jupyter-widgets/controls",
      "_model_module_version": "1.5.0",
      "_model_name": "HBoxModel",
      "_view_count": null,
      "_view_module": "@jupyter-widgets/controls",
      "_view_module_version": "1.5.0",
      "_view_name": "HBoxView",
      "box_style": "",
      "children": [
       "IPY_MODEL_a312455bab8a41a59c14f2bdc0e6166e",
       "IPY_MODEL_df6ccb4879f24952b822e49711a329a9",
       "IPY_MODEL_b02d82e0aafc4477aa321f4a251e4878"
      ],
      "layout": "IPY_MODEL_61038780d5c44705b557fe425666ce86"
     }
    },
    "881c76c56b924d42b1a2879e4fd3d25e": {
     "model_module": "@jupyter-widgets/controls",
     "model_module_version": "1.5.0",
     "model_name": "ProgressStyleModel",
     "state": {
      "_model_module": "@jupyter-widgets/controls",
      "_model_module_version": "1.5.0",
      "_model_name": "ProgressStyleModel",
      "_view_count": null,
      "_view_module": "@jupyter-widgets/base",
      "_view_module_version": "1.2.0",
      "_view_name": "StyleView",
      "bar_color": null,
      "description_width": ""
     }
    },
    "88228998e5ea4095a154783dc5759e72": {
     "model_module": "@jupyter-widgets/base",
     "model_module_version": "1.2.0",
     "model_name": "LayoutModel",
     "state": {
      "_model_module": "@jupyter-widgets/base",
      "_model_module_version": "1.2.0",
      "_model_name": "LayoutModel",
      "_view_count": null,
      "_view_module": "@jupyter-widgets/base",
      "_view_module_version": "1.2.0",
      "_view_name": "LayoutView",
      "align_content": null,
      "align_items": null,
      "align_self": null,
      "border": null,
      "bottom": null,
      "display": null,
      "flex": null,
      "flex_flow": null,
      "grid_area": null,
      "grid_auto_columns": null,
      "grid_auto_flow": null,
      "grid_auto_rows": null,
      "grid_column": null,
      "grid_gap": null,
      "grid_row": null,
      "grid_template_areas": null,
      "grid_template_columns": null,
      "grid_template_rows": null,
      "height": null,
      "justify_content": null,
      "justify_items": null,
      "left": null,
      "margin": null,
      "max_height": null,
      "max_width": null,
      "min_height": null,
      "min_width": null,
      "object_fit": null,
      "object_position": null,
      "order": null,
      "overflow": null,
      "overflow_x": null,
      "overflow_y": null,
      "padding": null,
      "right": null,
      "top": null,
      "visibility": null,
      "width": null
     }
    },
    "9b2d0bafb8f8401887580efca686fa89": {
     "model_module": "@jupyter-widgets/controls",
     "model_module_version": "1.5.0",
     "model_name": "DescriptionStyleModel",
     "state": {
      "_model_module": "@jupyter-widgets/controls",
      "_model_module_version": "1.5.0",
      "_model_name": "DescriptionStyleModel",
      "_view_count": null,
      "_view_module": "@jupyter-widgets/base",
      "_view_module_version": "1.2.0",
      "_view_name": "StyleView",
      "description_width": ""
     }
    },
    "a312455bab8a41a59c14f2bdc0e6166e": {
     "model_module": "@jupyter-widgets/controls",
     "model_module_version": "1.5.0",
     "model_name": "HTMLModel",
     "state": {
      "_dom_classes": [],
      "_model_module": "@jupyter-widgets/controls",
      "_model_module_version": "1.5.0",
      "_model_name": "HTMLModel",
      "_view_count": null,
      "_view_module": "@jupyter-widgets/controls",
      "_view_module_version": "1.5.0",
      "_view_name": "HTMLView",
      "description": "",
      "description_tooltip": null,
      "layout": "IPY_MODEL_b6d65486efe64fff8ed7184f53851793",
      "placeholder": "​",
      "style": "IPY_MODEL_5a49c2e47b1a461e97f32e2b8bb10d8d",
      "value": "Export report to file: 100%"
     }
    },
    "a377ab7a94ee4a938caf63125f8d1c9b": {
     "model_module": "@jupyter-widgets/controls",
     "model_module_version": "1.5.0",
     "model_name": "DescriptionStyleModel",
     "state": {
      "_model_module": "@jupyter-widgets/controls",
      "_model_module_version": "1.5.0",
      "_model_name": "DescriptionStyleModel",
      "_view_count": null,
      "_view_module": "@jupyter-widgets/base",
      "_view_module_version": "1.2.0",
      "_view_name": "StyleView",
      "description_width": ""
     }
    },
    "a502edfc8074490da255839d08f9691e": {
     "model_module": "@jupyter-widgets/controls",
     "model_module_version": "1.5.0",
     "model_name": "HTMLModel",
     "state": {
      "_dom_classes": [],
      "_model_module": "@jupyter-widgets/controls",
      "_model_module_version": "1.5.0",
      "_model_name": "HTMLModel",
      "_view_count": null,
      "_view_module": "@jupyter-widgets/controls",
      "_view_module_version": "1.5.0",
      "_view_name": "HTMLView",
      "description": "",
      "description_tooltip": null,
      "layout": "IPY_MODEL_ed83b1efcefc4cbfa780c58b52a0066b",
      "placeholder": "​",
      "style": "IPY_MODEL_2e20eb2fb8d84703a849f154755423ac",
      "value": "Summarize dataset: 100%"
     }
    },
    "b02d82e0aafc4477aa321f4a251e4878": {
     "model_module": "@jupyter-widgets/controls",
     "model_module_version": "1.5.0",
     "model_name": "HTMLModel",
     "state": {
      "_dom_classes": [],
      "_model_module": "@jupyter-widgets/controls",
      "_model_module_version": "1.5.0",
      "_model_name": "HTMLModel",
      "_view_count": null,
      "_view_module": "@jupyter-widgets/controls",
      "_view_module_version": "1.5.0",
      "_view_name": "HTMLView",
      "description": "",
      "description_tooltip": null,
      "layout": "IPY_MODEL_6e9e88fadfbb4a4cbc687c946be22047",
      "placeholder": "​",
      "style": "IPY_MODEL_9b2d0bafb8f8401887580efca686fa89",
      "value": " 1/1 [00:00&lt;00:00, 26.64it/s]"
     }
    },
    "b36ad4201bd0492c9900e4457fa49ce3": {
     "model_module": "@jupyter-widgets/controls",
     "model_module_version": "1.5.0",
     "model_name": "ProgressStyleModel",
     "state": {
      "_model_module": "@jupyter-widgets/controls",
      "_model_module_version": "1.5.0",
      "_model_name": "ProgressStyleModel",
      "_view_count": null,
      "_view_module": "@jupyter-widgets/base",
      "_view_module_version": "1.2.0",
      "_view_name": "StyleView",
      "bar_color": null,
      "description_width": ""
     }
    },
    "b6d65486efe64fff8ed7184f53851793": {
     "model_module": "@jupyter-widgets/base",
     "model_module_version": "1.2.0",
     "model_name": "LayoutModel",
     "state": {
      "_model_module": "@jupyter-widgets/base",
      "_model_module_version": "1.2.0",
      "_model_name": "LayoutModel",
      "_view_count": null,
      "_view_module": "@jupyter-widgets/base",
      "_view_module_version": "1.2.0",
      "_view_name": "LayoutView",
      "align_content": null,
      "align_items": null,
      "align_self": null,
      "border": null,
      "bottom": null,
      "display": null,
      "flex": null,
      "flex_flow": null,
      "grid_area": null,
      "grid_auto_columns": null,
      "grid_auto_flow": null,
      "grid_auto_rows": null,
      "grid_column": null,
      "grid_gap": null,
      "grid_row": null,
      "grid_template_areas": null,
      "grid_template_columns": null,
      "grid_template_rows": null,
      "height": null,
      "justify_content": null,
      "justify_items": null,
      "left": null,
      "margin": null,
      "max_height": null,
      "max_width": null,
      "min_height": null,
      "min_width": null,
      "object_fit": null,
      "object_position": null,
      "order": null,
      "overflow": null,
      "overflow_x": null,
      "overflow_y": null,
      "padding": null,
      "right": null,
      "top": null,
      "visibility": null,
      "width": null
     }
    },
    "c9e96ae520f1469aaae6178e36e3c290": {
     "model_module": "@jupyter-widgets/controls",
     "model_module_version": "1.5.0",
     "model_name": "HTMLModel",
     "state": {
      "_dom_classes": [],
      "_model_module": "@jupyter-widgets/controls",
      "_model_module_version": "1.5.0",
      "_model_name": "HTMLModel",
      "_view_count": null,
      "_view_module": "@jupyter-widgets/controls",
      "_view_module_version": "1.5.0",
      "_view_name": "HTMLView",
      "description": "",
      "description_tooltip": null,
      "layout": "IPY_MODEL_8257ddbbb61f478a9941477d85ed2910",
      "placeholder": "​",
      "style": "IPY_MODEL_812c8332ae8a4f3993b3ce735c310758",
      "value": " 1/1 [00:10&lt;00:00, 10.19s/it]"
     }
    },
    "cb8ca04b7cfa41108b802b724bf1188d": {
     "model_module": "@jupyter-widgets/controls",
     "model_module_version": "1.5.0",
     "model_name": "HBoxModel",
     "state": {
      "_dom_classes": [],
      "_model_module": "@jupyter-widgets/controls",
      "_model_module_version": "1.5.0",
      "_model_name": "HBoxModel",
      "_view_count": null,
      "_view_module": "@jupyter-widgets/controls",
      "_view_module_version": "1.5.0",
      "_view_name": "HBoxView",
      "box_style": "",
      "children": [
       "IPY_MODEL_2bcffe04d35240c1a970d05ac9491268",
       "IPY_MODEL_0bce13e506744e229e76ee9105319e06",
       "IPY_MODEL_1880ef887d7b4a53a136a5bec4cdb849"
      ],
      "layout": "IPY_MODEL_cdbc5e0bd99d4e62a1d68b8dacf6bb53"
     }
    },
    "cdbc5e0bd99d4e62a1d68b8dacf6bb53": {
     "model_module": "@jupyter-widgets/base",
     "model_module_version": "1.2.0",
     "model_name": "LayoutModel",
     "state": {
      "_model_module": "@jupyter-widgets/base",
      "_model_module_version": "1.2.0",
      "_model_name": "LayoutModel",
      "_view_count": null,
      "_view_module": "@jupyter-widgets/base",
      "_view_module_version": "1.2.0",
      "_view_name": "LayoutView",
      "align_content": null,
      "align_items": null,
      "align_self": null,
      "border": null,
      "bottom": null,
      "display": null,
      "flex": null,
      "flex_flow": null,
      "grid_area": null,
      "grid_auto_columns": null,
      "grid_auto_flow": null,
      "grid_auto_rows": null,
      "grid_column": null,
      "grid_gap": null,
      "grid_row": null,
      "grid_template_areas": null,
      "grid_template_columns": null,
      "grid_template_rows": null,
      "height": null,
      "justify_content": null,
      "justify_items": null,
      "left": null,
      "margin": null,
      "max_height": null,
      "max_width": null,
      "min_height": null,
      "min_width": null,
      "object_fit": null,
      "object_position": null,
      "order": null,
      "overflow": null,
      "overflow_x": null,
      "overflow_y": null,
      "padding": null,
      "right": null,
      "top": null,
      "visibility": null,
      "width": null
     }
    },
    "dacfe2dec5d340ed99a0db4936feb19d": {
     "model_module": "@jupyter-widgets/base",
     "model_module_version": "1.2.0",
     "model_name": "LayoutModel",
     "state": {
      "_model_module": "@jupyter-widgets/base",
      "_model_module_version": "1.2.0",
      "_model_name": "LayoutModel",
      "_view_count": null,
      "_view_module": "@jupyter-widgets/base",
      "_view_module_version": "1.2.0",
      "_view_name": "LayoutView",
      "align_content": null,
      "align_items": null,
      "align_self": null,
      "border": null,
      "bottom": null,
      "display": null,
      "flex": null,
      "flex_flow": null,
      "grid_area": null,
      "grid_auto_columns": null,
      "grid_auto_flow": null,
      "grid_auto_rows": null,
      "grid_column": null,
      "grid_gap": null,
      "grid_row": null,
      "grid_template_areas": null,
      "grid_template_columns": null,
      "grid_template_rows": null,
      "height": null,
      "justify_content": null,
      "justify_items": null,
      "left": null,
      "margin": null,
      "max_height": null,
      "max_width": null,
      "min_height": null,
      "min_width": null,
      "object_fit": null,
      "object_position": null,
      "order": null,
      "overflow": null,
      "overflow_x": null,
      "overflow_y": null,
      "padding": null,
      "right": null,
      "top": null,
      "visibility": null,
      "width": null
     }
    },
    "dd2068feb0174612b3f4d8857159c991": {
     "model_module": "@jupyter-widgets/controls",
     "model_module_version": "1.5.0",
     "model_name": "HBoxModel",
     "state": {
      "_dom_classes": [],
      "_model_module": "@jupyter-widgets/controls",
      "_model_module_version": "1.5.0",
      "_model_name": "HBoxModel",
      "_view_count": null,
      "_view_module": "@jupyter-widgets/controls",
      "_view_module_version": "1.5.0",
      "_view_name": "HBoxView",
      "box_style": "",
      "children": [
       "IPY_MODEL_792e977b42184ac7bd7b71e03fe2b0c0",
       "IPY_MODEL_47eed2fd5d934cd49d649c612e802c26",
       "IPY_MODEL_c9e96ae520f1469aaae6178e36e3c290"
      ],
      "layout": "IPY_MODEL_50e6b37704bc44f58fd029015b1705dc"
     }
    },
    "df6ccb4879f24952b822e49711a329a9": {
     "model_module": "@jupyter-widgets/controls",
     "model_module_version": "1.5.0",
     "model_name": "FloatProgressModel",
     "state": {
      "_dom_classes": [],
      "_model_module": "@jupyter-widgets/controls",
      "_model_module_version": "1.5.0",
      "_model_name": "FloatProgressModel",
      "_view_count": null,
      "_view_module": "@jupyter-widgets/controls",
      "_view_module_version": "1.5.0",
      "_view_name": "ProgressView",
      "bar_style": "success",
      "description": "",
      "description_tooltip": null,
      "layout": "IPY_MODEL_dacfe2dec5d340ed99a0db4936feb19d",
      "max": 1,
      "min": 0,
      "orientation": "horizontal",
      "style": "IPY_MODEL_77fd24186400488aa2bf90cce5d342b3",
      "value": 1
     }
    },
    "e20459e3623d4877b30fc548e56bc1f9": {
     "model_module": "@jupyter-widgets/base",
     "model_module_version": "1.2.0",
     "model_name": "LayoutModel",
     "state": {
      "_model_module": "@jupyter-widgets/base",
      "_model_module_version": "1.2.0",
      "_model_name": "LayoutModel",
      "_view_count": null,
      "_view_module": "@jupyter-widgets/base",
      "_view_module_version": "1.2.0",
      "_view_name": "LayoutView",
      "align_content": null,
      "align_items": null,
      "align_self": null,
      "border": null,
      "bottom": null,
      "display": null,
      "flex": null,
      "flex_flow": null,
      "grid_area": null,
      "grid_auto_columns": null,
      "grid_auto_flow": null,
      "grid_auto_rows": null,
      "grid_column": null,
      "grid_gap": null,
      "grid_row": null,
      "grid_template_areas": null,
      "grid_template_columns": null,
      "grid_template_rows": null,
      "height": null,
      "justify_content": null,
      "justify_items": null,
      "left": null,
      "margin": null,
      "max_height": null,
      "max_width": null,
      "min_height": null,
      "min_width": null,
      "object_fit": null,
      "object_position": null,
      "order": null,
      "overflow": null,
      "overflow_x": null,
      "overflow_y": null,
      "padding": null,
      "right": null,
      "top": null,
      "visibility": null,
      "width": null
     }
    },
    "ed83b1efcefc4cbfa780c58b52a0066b": {
     "model_module": "@jupyter-widgets/base",
     "model_module_version": "1.2.0",
     "model_name": "LayoutModel",
     "state": {
      "_model_module": "@jupyter-widgets/base",
      "_model_module_version": "1.2.0",
      "_model_name": "LayoutModel",
      "_view_count": null,
      "_view_module": "@jupyter-widgets/base",
      "_view_module_version": "1.2.0",
      "_view_name": "LayoutView",
      "align_content": null,
      "align_items": null,
      "align_self": null,
      "border": null,
      "bottom": null,
      "display": null,
      "flex": null,
      "flex_flow": null,
      "grid_area": null,
      "grid_auto_columns": null,
      "grid_auto_flow": null,
      "grid_auto_rows": null,
      "grid_column": null,
      "grid_gap": null,
      "grid_row": null,
      "grid_template_areas": null,
      "grid_template_columns": null,
      "grid_template_rows": null,
      "height": null,
      "justify_content": null,
      "justify_items": null,
      "left": null,
      "margin": null,
      "max_height": null,
      "max_width": null,
      "min_height": null,
      "min_width": null,
      "object_fit": null,
      "object_position": null,
      "order": null,
      "overflow": null,
      "overflow_x": null,
      "overflow_y": null,
      "padding": null,
      "right": null,
      "top": null,
      "visibility": null,
      "width": null
     }
    }
   }
  }
 },
 "nbformat": 4,
 "nbformat_minor": 1
}
